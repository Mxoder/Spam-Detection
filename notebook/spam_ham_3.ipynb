{
 "cells": [
  {
   "cell_type": "markdown",
   "metadata": {
    "id": "JpICMxO9S9sm"
   },
   "source": [
    "# 垃圾邮件识别"
   ]
  },
  {
   "cell_type": "markdown",
   "metadata": {
    "id": "gvIhaWk7THNh"
   },
   "source": [
    "## 1. 准备工作"
   ]
  },
  {
   "cell_type": "markdown",
   "metadata": {},
   "source": [
    "### 1.1 环境搭建"
   ]
  },
  {
   "cell_type": "code",
   "execution_count": null,
   "metadata": {
    "id": "hCboOwbWS7E0"
   },
   "outputs": [],
   "source": [
    "# !pip install -q numpy           # 已有 numpy 则无需重复安装\n",
    "# !pip install -q pandas          # 已有 pandas 则无需重复安装\n",
    "# !pip install -q matplotlib      # 已有 matplotlib 则无需重复安装\n",
    "# !pip install -q torch           # 已有 pytorch 则无需重复安装\n",
    "# !pip install -q seaborn         # 已有 seaborn 则无需重复安装\n",
    "# !pip install -q chardet         # 已有 chardet 则无需重复安装"
   ]
  },
  {
   "cell_type": "code",
   "execution_count": null,
   "metadata": {
    "colab": {
     "base_uri": "https://localhost:8080/"
    },
    "executionInfo": {
     "elapsed": 42502,
     "status": "ok",
     "timestamp": 1700174830798,
     "user": {
      "displayName": "Jorge Limery",
      "userId": "02703735869977102912"
     },
     "user_tz": -480
    },
    "id": "1PXIIkYwT5tG",
    "outputId": "f6f84c6f-a5de-4841-d75d-103eb68a4ff9"
   },
   "outputs": [],
   "source": [
    "!pip install -q transformers    # huggingface 的集成工具库\n",
    "!pip install -q accelerate      # 加速库\n",
    "!pip install -q datasets        # 数据包\n",
    "!pip install -q optuna          # 调优\n",
    "!pip install -q tqdm            # 进度条"
   ]
  },
  {
   "cell_type": "markdown",
   "metadata": {},
   "source": [
    "### 1.2 加载数据"
   ]
  },
  {
   "cell_type": "code",
   "execution_count": 3,
   "metadata": {},
   "outputs": [],
   "source": [
    "import chardet\n",
    "\n",
    "# 检测编码\n",
    "def detect_encoding(file_path):\n",
    "    with open(file_path, 'rb') as f:\n",
    "        result = chardet.detect(f.read())\n",
    "    return result['encoding']"
   ]
  },
  {
   "cell_type": "code",
   "execution_count": 4,
   "metadata": {},
   "outputs": [],
   "source": [
    "import pandas as pd\n",
    "\n",
    "# 原文件并非 utf-8 编码格式\n",
    "df_tr = pd.read_csv('train.csv', encoding=detect_encoding('train.csv'))             # df_train\n",
    "df_te = pd.read_csv('test.csv', encoding=detect_encoding('test.csv'), header=None)  # df_test"
   ]
  },
  {
   "cell_type": "markdown",
   "metadata": {
    "id": "RD5ZnkzqUNFz"
   },
   "source": [
    "## 2. 数据分析"
   ]
  },
  {
   "cell_type": "code",
   "execution_count": 3,
   "metadata": {
    "colab": {
     "base_uri": "https://localhost:8080/",
     "height": 423
    },
    "executionInfo": {
     "elapsed": 527,
     "status": "ok",
     "timestamp": 1700177309015,
     "user": {
      "displayName": "Jorge Limery",
      "userId": "02703735869977102912"
     },
     "user_tz": -480
    },
    "id": "2S8PZVXfUX4_",
    "outputId": "38bb66f9-615b-46d6-ae0a-a54305169c0d"
   },
   "outputs": [
    {
     "data": {
      "text/html": [
       "<div>\n",
       "<style scoped>\n",
       "    .dataframe tbody tr th:only-of-type {\n",
       "        vertical-align: middle;\n",
       "    }\n",
       "\n",
       "    .dataframe tbody tr th {\n",
       "        vertical-align: top;\n",
       "    }\n",
       "\n",
       "    .dataframe thead th {\n",
       "        text-align: right;\n",
       "    }\n",
       "</style>\n",
       "<table border=\"1\" class=\"dataframe\">\n",
       "  <thead>\n",
       "    <tr style=\"text-align: right;\">\n",
       "      <th></th>\n",
       "      <th>id</th>\n",
       "      <th>v1</th>\n",
       "      <th>v2</th>\n",
       "      <th>Unnamed: 3</th>\n",
       "      <th>Unnamed: 4</th>\n",
       "      <th>Unnamed: 5</th>\n",
       "    </tr>\n",
       "  </thead>\n",
       "  <tbody>\n",
       "    <tr>\n",
       "      <th>0</th>\n",
       "      <td>1</td>\n",
       "      <td>ham</td>\n",
       "      <td>Go until jurong point, crazy.. Available only ...</td>\n",
       "      <td>NaN</td>\n",
       "      <td>NaN</td>\n",
       "      <td>NaN</td>\n",
       "    </tr>\n",
       "    <tr>\n",
       "      <th>1</th>\n",
       "      <td>2</td>\n",
       "      <td>ham</td>\n",
       "      <td>Ok lar... Joking wif u oni...</td>\n",
       "      <td>NaN</td>\n",
       "      <td>NaN</td>\n",
       "      <td>NaN</td>\n",
       "    </tr>\n",
       "    <tr>\n",
       "      <th>2</th>\n",
       "      <td>3</td>\n",
       "      <td>spam</td>\n",
       "      <td>Free entry in 2 a wkly comp to win FA Cup fina...</td>\n",
       "      <td>NaN</td>\n",
       "      <td>NaN</td>\n",
       "      <td>NaN</td>\n",
       "    </tr>\n",
       "    <tr>\n",
       "      <th>3</th>\n",
       "      <td>4</td>\n",
       "      <td>ham</td>\n",
       "      <td>U dun say so early hor... U c already then say...</td>\n",
       "      <td>NaN</td>\n",
       "      <td>NaN</td>\n",
       "      <td>NaN</td>\n",
       "    </tr>\n",
       "    <tr>\n",
       "      <th>4</th>\n",
       "      <td>5</td>\n",
       "      <td>ham</td>\n",
       "      <td>Nah I don't think he goes to usf, he lives aro...</td>\n",
       "      <td>NaN</td>\n",
       "      <td>NaN</td>\n",
       "      <td>NaN</td>\n",
       "    </tr>\n",
       "    <tr>\n",
       "      <th>...</th>\n",
       "      <td>...</td>\n",
       "      <td>...</td>\n",
       "      <td>...</td>\n",
       "      <td>...</td>\n",
       "      <td>...</td>\n",
       "      <td>...</td>\n",
       "    </tr>\n",
       "    <tr>\n",
       "      <th>3532</th>\n",
       "      <td>3533</td>\n",
       "      <td>ham</td>\n",
       "      <td>Sorry, I'll call later</td>\n",
       "      <td>NaN</td>\n",
       "      <td>NaN</td>\n",
       "      <td>NaN</td>\n",
       "    </tr>\n",
       "    <tr>\n",
       "      <th>3533</th>\n",
       "      <td>3534</td>\n",
       "      <td>ham</td>\n",
       "      <td>Good evening! How are you?</td>\n",
       "      <td>NaN</td>\n",
       "      <td>NaN</td>\n",
       "      <td>NaN</td>\n",
       "    </tr>\n",
       "    <tr>\n",
       "      <th>3534</th>\n",
       "      <td>3535</td>\n",
       "      <td>ham</td>\n",
       "      <td>I'm at home. Please call</td>\n",
       "      <td>NaN</td>\n",
       "      <td>NaN</td>\n",
       "      <td>NaN</td>\n",
       "    </tr>\n",
       "    <tr>\n",
       "      <th>3535</th>\n",
       "      <td>3536</td>\n",
       "      <td>ham</td>\n",
       "      <td>Oic cos me n my sis got no lunch today my dad ...</td>\n",
       "      <td>NaN</td>\n",
       "      <td>NaN</td>\n",
       "      <td>NaN</td>\n",
       "    </tr>\n",
       "    <tr>\n",
       "      <th>3536</th>\n",
       "      <td>3537</td>\n",
       "      <td>ham</td>\n",
       "      <td>Mmmmm ... It was sooooo good to wake to your w...</td>\n",
       "      <td>NaN</td>\n",
       "      <td>NaN</td>\n",
       "      <td>NaN</td>\n",
       "    </tr>\n",
       "  </tbody>\n",
       "</table>\n",
       "<p>3537 rows × 6 columns</p>\n",
       "</div>"
      ],
      "text/plain": [
       "        id    v1                                                 v2  \\\n",
       "0        1   ham  Go until jurong point, crazy.. Available only ...   \n",
       "1        2   ham                      Ok lar... Joking wif u oni...   \n",
       "2        3  spam  Free entry in 2 a wkly comp to win FA Cup fina...   \n",
       "3        4   ham  U dun say so early hor... U c already then say...   \n",
       "4        5   ham  Nah I don't think he goes to usf, he lives aro...   \n",
       "...    ...   ...                                                ...   \n",
       "3532  3533   ham                             Sorry, I'll call later   \n",
       "3533  3534   ham                         Good evening! How are you?   \n",
       "3534  3535   ham                           I'm at home. Please call   \n",
       "3535  3536   ham  Oic cos me n my sis got no lunch today my dad ...   \n",
       "3536  3537   ham  Mmmmm ... It was sooooo good to wake to your w...   \n",
       "\n",
       "     Unnamed: 3 Unnamed: 4 Unnamed: 5  \n",
       "0           NaN        NaN        NaN  \n",
       "1           NaN        NaN        NaN  \n",
       "2           NaN        NaN        NaN  \n",
       "3           NaN        NaN        NaN  \n",
       "4           NaN        NaN        NaN  \n",
       "...         ...        ...        ...  \n",
       "3532        NaN        NaN        NaN  \n",
       "3533        NaN        NaN        NaN  \n",
       "3534        NaN        NaN        NaN  \n",
       "3535        NaN        NaN        NaN  \n",
       "3536        NaN        NaN        NaN  \n",
       "\n",
       "[3537 rows x 6 columns]"
      ]
     },
     "execution_count": 3,
     "metadata": {},
     "output_type": "execute_result"
    }
   ],
   "source": [
    "# 查看 df_tr\n",
    "df_tr"
   ]
  },
  {
   "cell_type": "code",
   "execution_count": 4,
   "metadata": {
    "colab": {
     "base_uri": "https://localhost:8080/",
     "height": 423
    },
    "executionInfo": {
     "elapsed": 3,
     "status": "ok",
     "timestamp": 1700177309635,
     "user": {
      "displayName": "Jorge Limery",
      "userId": "02703735869977102912"
     },
     "user_tz": -480
    },
    "id": "Y4oEMXPsUeAy",
    "outputId": "ed46f363-4ebf-4415-cc59-fc09b590505b"
   },
   "outputs": [
    {
     "data": {
      "text/html": [
       "\n",
       "  <div id=\"df-ba274d35-48b4-4e21-b612-90d774bdf5c7\" class=\"colab-df-container\">\n",
       "    <div>\n",
       "<style scoped>\n",
       "    .dataframe tbody tr th:only-of-type {\n",
       "        vertical-align: middle;\n",
       "    }\n",
       "\n",
       "    .dataframe tbody tr th {\n",
       "        vertical-align: top;\n",
       "    }\n",
       "\n",
       "    .dataframe thead th {\n",
       "        text-align: right;\n",
       "    }\n",
       "</style>\n",
       "<table border=\"1\" class=\"dataframe\">\n",
       "  <thead>\n",
       "    <tr style=\"text-align: right;\">\n",
       "      <th></th>\n",
       "      <th>0</th>\n",
       "      <th>1</th>\n",
       "      <th>2</th>\n",
       "      <th>3</th>\n",
       "    </tr>\n",
       "  </thead>\n",
       "  <tbody>\n",
       "    <tr>\n",
       "      <th>0</th>\n",
       "      <td>We are pleased to inform that your application...</td>\n",
       "      <td>NaN</td>\n",
       "      <td>NaN</td>\n",
       "      <td>NaN</td>\n",
       "    </tr>\n",
       "    <tr>\n",
       "      <th>1</th>\n",
       "      <td>What happen dear. Why you silent. I am tensed</td>\n",
       "      <td>NaN</td>\n",
       "      <td>NaN</td>\n",
       "      <td>NaN</td>\n",
       "    </tr>\n",
       "    <tr>\n",
       "      <th>2</th>\n",
       "      <td>I'll get there at 3, unless you guys want me t...</td>\n",
       "      <td>NaN</td>\n",
       "      <td>NaN</td>\n",
       "      <td>NaN</td>\n",
       "    </tr>\n",
       "    <tr>\n",
       "      <th>3</th>\n",
       "      <td>If you are not coughing then its nothing</td>\n",
       "      <td>NaN</td>\n",
       "      <td>NaN</td>\n",
       "      <td>NaN</td>\n",
       "    </tr>\n",
       "    <tr>\n",
       "      <th>4</th>\n",
       "      <td>ÌÏ come lt 25 n pass to me lar</td>\n",
       "      <td>NaN</td>\n",
       "      <td>NaN</td>\n",
       "      <td>NaN</td>\n",
       "    </tr>\n",
       "    <tr>\n",
       "      <th>...</th>\n",
       "      <td>...</td>\n",
       "      <td>...</td>\n",
       "      <td>...</td>\n",
       "      <td>...</td>\n",
       "    </tr>\n",
       "    <tr>\n",
       "      <th>2030</th>\n",
       "      <td>This is the 2nd time we have tried 2 contact u...</td>\n",
       "      <td>NaN</td>\n",
       "      <td>NaN</td>\n",
       "      <td>NaN</td>\n",
       "    </tr>\n",
       "    <tr>\n",
       "      <th>2031</th>\n",
       "      <td>Will Ì_ b going to esplanade fr home?</td>\n",
       "      <td>NaN</td>\n",
       "      <td>NaN</td>\n",
       "      <td>NaN</td>\n",
       "    </tr>\n",
       "    <tr>\n",
       "      <th>2032</th>\n",
       "      <td>Pity, * was in mood for that. So...any other s...</td>\n",
       "      <td>NaN</td>\n",
       "      <td>NaN</td>\n",
       "      <td>NaN</td>\n",
       "    </tr>\n",
       "    <tr>\n",
       "      <th>2033</th>\n",
       "      <td>The guy did some bitching but I acted like i'd...</td>\n",
       "      <td>NaN</td>\n",
       "      <td>NaN</td>\n",
       "      <td>NaN</td>\n",
       "    </tr>\n",
       "    <tr>\n",
       "      <th>2034</th>\n",
       "      <td>Rofl. Its true to its name</td>\n",
       "      <td>NaN</td>\n",
       "      <td>NaN</td>\n",
       "      <td>NaN</td>\n",
       "    </tr>\n",
       "  </tbody>\n",
       "</table>\n",
       "<p>2035 rows × 4 columns</p>\n",
       "</div>\n",
       "    <div class=\"colab-df-buttons\">\n",
       "\n",
       "  <div class=\"colab-df-container\">\n",
       "    <button class=\"colab-df-convert\" onclick=\"convertToInteractive('df-ba274d35-48b4-4e21-b612-90d774bdf5c7')\"\n",
       "            title=\"Convert this dataframe to an interactive table.\"\n",
       "            style=\"display:none;\">\n",
       "\n",
       "  <svg xmlns=\"http://www.w3.org/2000/svg\" height=\"24px\" viewBox=\"0 -960 960 960\">\n",
       "    <path d=\"M120-120v-720h720v720H120Zm60-500h600v-160H180v160Zm220 220h160v-160H400v160Zm0 220h160v-160H400v160ZM180-400h160v-160H180v160Zm440 0h160v-160H620v160ZM180-180h160v-160H180v160Zm440 0h160v-160H620v160Z\"/>\n",
       "  </svg>\n",
       "    </button>\n",
       "\n",
       "  <style>\n",
       "    .colab-df-container {\n",
       "      display:flex;\n",
       "      gap: 12px;\n",
       "    }\n",
       "\n",
       "    .colab-df-convert {\n",
       "      background-color: #E8F0FE;\n",
       "      border: none;\n",
       "      border-radius: 50%;\n",
       "      cursor: pointer;\n",
       "      display: none;\n",
       "      fill: #1967D2;\n",
       "      height: 32px;\n",
       "      padding: 0 0 0 0;\n",
       "      width: 32px;\n",
       "    }\n",
       "\n",
       "    .colab-df-convert:hover {\n",
       "      background-color: #E2EBFA;\n",
       "      box-shadow: 0px 1px 2px rgba(60, 64, 67, 0.3), 0px 1px 3px 1px rgba(60, 64, 67, 0.15);\n",
       "      fill: #174EA6;\n",
       "    }\n",
       "\n",
       "    .colab-df-buttons div {\n",
       "      margin-bottom: 4px;\n",
       "    }\n",
       "\n",
       "    [theme=dark] .colab-df-convert {\n",
       "      background-color: #3B4455;\n",
       "      fill: #D2E3FC;\n",
       "    }\n",
       "\n",
       "    [theme=dark] .colab-df-convert:hover {\n",
       "      background-color: #434B5C;\n",
       "      box-shadow: 0px 1px 3px 1px rgba(0, 0, 0, 0.15);\n",
       "      filter: drop-shadow(0px 1px 2px rgba(0, 0, 0, 0.3));\n",
       "      fill: #FFFFFF;\n",
       "    }\n",
       "  </style>\n",
       "\n",
       "    <script>\n",
       "      const buttonEl =\n",
       "        document.querySelector('#df-ba274d35-48b4-4e21-b612-90d774bdf5c7 button.colab-df-convert');\n",
       "      buttonEl.style.display =\n",
       "        google.colab.kernel.accessAllowed ? 'block' : 'none';\n",
       "\n",
       "      async function convertToInteractive(key) {\n",
       "        const element = document.querySelector('#df-ba274d35-48b4-4e21-b612-90d774bdf5c7');\n",
       "        const dataTable =\n",
       "          await google.colab.kernel.invokeFunction('convertToInteractive',\n",
       "                                                    [key], {});\n",
       "        if (!dataTable) return;\n",
       "\n",
       "        const docLinkHtml = 'Like what you see? Visit the ' +\n",
       "          '<a target=\"_blank\" href=https://colab.research.google.com/notebooks/data_table.ipynb>data table notebook</a>'\n",
       "          + ' to learn more about interactive tables.';\n",
       "        element.innerHTML = '';\n",
       "        dataTable['output_type'] = 'display_data';\n",
       "        await google.colab.output.renderOutput(dataTable, element);\n",
       "        const docLink = document.createElement('div');\n",
       "        docLink.innerHTML = docLinkHtml;\n",
       "        element.appendChild(docLink);\n",
       "      }\n",
       "    </script>\n",
       "  </div>\n",
       "\n",
       "\n",
       "<div id=\"df-dd1d83b3-a3c6-4d92-be64-9e7efe15c356\">\n",
       "  <button class=\"colab-df-quickchart\" onclick=\"quickchart('df-dd1d83b3-a3c6-4d92-be64-9e7efe15c356')\"\n",
       "            title=\"Suggest charts\"\n",
       "            style=\"display:none;\">\n",
       "\n",
       "<svg xmlns=\"http://www.w3.org/2000/svg\" height=\"24px\"viewBox=\"0 0 24 24\"\n",
       "     width=\"24px\">\n",
       "    <g>\n",
       "        <path d=\"M19 3H5c-1.1 0-2 .9-2 2v14c0 1.1.9 2 2 2h14c1.1 0 2-.9 2-2V5c0-1.1-.9-2-2-2zM9 17H7v-7h2v7zm4 0h-2V7h2v10zm4 0h-2v-4h2v4z\"/>\n",
       "    </g>\n",
       "</svg>\n",
       "  </button>\n",
       "\n",
       "<style>\n",
       "  .colab-df-quickchart {\n",
       "      --bg-color: #E8F0FE;\n",
       "      --fill-color: #1967D2;\n",
       "      --hover-bg-color: #E2EBFA;\n",
       "      --hover-fill-color: #174EA6;\n",
       "      --disabled-fill-color: #AAA;\n",
       "      --disabled-bg-color: #DDD;\n",
       "  }\n",
       "\n",
       "  [theme=dark] .colab-df-quickchart {\n",
       "      --bg-color: #3B4455;\n",
       "      --fill-color: #D2E3FC;\n",
       "      --hover-bg-color: #434B5C;\n",
       "      --hover-fill-color: #FFFFFF;\n",
       "      --disabled-bg-color: #3B4455;\n",
       "      --disabled-fill-color: #666;\n",
       "  }\n",
       "\n",
       "  .colab-df-quickchart {\n",
       "    background-color: var(--bg-color);\n",
       "    border: none;\n",
       "    border-radius: 50%;\n",
       "    cursor: pointer;\n",
       "    display: none;\n",
       "    fill: var(--fill-color);\n",
       "    height: 32px;\n",
       "    padding: 0;\n",
       "    width: 32px;\n",
       "  }\n",
       "\n",
       "  .colab-df-quickchart:hover {\n",
       "    background-color: var(--hover-bg-color);\n",
       "    box-shadow: 0 1px 2px rgba(60, 64, 67, 0.3), 0 1px 3px 1px rgba(60, 64, 67, 0.15);\n",
       "    fill: var(--button-hover-fill-color);\n",
       "  }\n",
       "\n",
       "  .colab-df-quickchart-complete:disabled,\n",
       "  .colab-df-quickchart-complete:disabled:hover {\n",
       "    background-color: var(--disabled-bg-color);\n",
       "    fill: var(--disabled-fill-color);\n",
       "    box-shadow: none;\n",
       "  }\n",
       "\n",
       "  .colab-df-spinner {\n",
       "    border: 2px solid var(--fill-color);\n",
       "    border-color: transparent;\n",
       "    border-bottom-color: var(--fill-color);\n",
       "    animation:\n",
       "      spin 1s steps(1) infinite;\n",
       "  }\n",
       "\n",
       "  @keyframes spin {\n",
       "    0% {\n",
       "      border-color: transparent;\n",
       "      border-bottom-color: var(--fill-color);\n",
       "      border-left-color: var(--fill-color);\n",
       "    }\n",
       "    20% {\n",
       "      border-color: transparent;\n",
       "      border-left-color: var(--fill-color);\n",
       "      border-top-color: var(--fill-color);\n",
       "    }\n",
       "    30% {\n",
       "      border-color: transparent;\n",
       "      border-left-color: var(--fill-color);\n",
       "      border-top-color: var(--fill-color);\n",
       "      border-right-color: var(--fill-color);\n",
       "    }\n",
       "    40% {\n",
       "      border-color: transparent;\n",
       "      border-right-color: var(--fill-color);\n",
       "      border-top-color: var(--fill-color);\n",
       "    }\n",
       "    60% {\n",
       "      border-color: transparent;\n",
       "      border-right-color: var(--fill-color);\n",
       "    }\n",
       "    80% {\n",
       "      border-color: transparent;\n",
       "      border-right-color: var(--fill-color);\n",
       "      border-bottom-color: var(--fill-color);\n",
       "    }\n",
       "    90% {\n",
       "      border-color: transparent;\n",
       "      border-bottom-color: var(--fill-color);\n",
       "    }\n",
       "  }\n",
       "</style>\n",
       "\n",
       "  <script>\n",
       "    async function quickchart(key) {\n",
       "      const quickchartButtonEl =\n",
       "        document.querySelector('#' + key + ' button');\n",
       "      quickchartButtonEl.disabled = true;  // To prevent multiple clicks.\n",
       "      quickchartButtonEl.classList.add('colab-df-spinner');\n",
       "      try {\n",
       "        const charts = await google.colab.kernel.invokeFunction(\n",
       "            'suggestCharts', [key], {});\n",
       "      } catch (error) {\n",
       "        console.error('Error during call to suggestCharts:', error);\n",
       "      }\n",
       "      quickchartButtonEl.classList.remove('colab-df-spinner');\n",
       "      quickchartButtonEl.classList.add('colab-df-quickchart-complete');\n",
       "    }\n",
       "    (() => {\n",
       "      let quickchartButtonEl =\n",
       "        document.querySelector('#df-dd1d83b3-a3c6-4d92-be64-9e7efe15c356 button');\n",
       "      quickchartButtonEl.style.display =\n",
       "        google.colab.kernel.accessAllowed ? 'block' : 'none';\n",
       "    })();\n",
       "  </script>\n",
       "</div>\n",
       "    </div>\n",
       "  </div>\n"
      ],
      "text/plain": [
       "                                                      0    1    2    3\n",
       "0     We are pleased to inform that your application...  NaN  NaN  NaN\n",
       "1         What happen dear. Why you silent. I am tensed  NaN  NaN  NaN\n",
       "2     I'll get there at 3, unless you guys want me t...  NaN  NaN  NaN\n",
       "3              If you are not coughing then its nothing  NaN  NaN  NaN\n",
       "4                        ÌÏ come lt 25 n pass to me lar  NaN  NaN  NaN\n",
       "...                                                 ...  ...  ...  ...\n",
       "2030  This is the 2nd time we have tried 2 contact u...  NaN  NaN  NaN\n",
       "2031              Will Ì_ b going to esplanade fr home?  NaN  NaN  NaN\n",
       "2032  Pity, * was in mood for that. So...any other s...  NaN  NaN  NaN\n",
       "2033  The guy did some bitching but I acted like i'd...  NaN  NaN  NaN\n",
       "2034                         Rofl. Its true to its name  NaN  NaN  NaN\n",
       "\n",
       "[2035 rows x 4 columns]"
      ]
     },
     "execution_count": 4,
     "metadata": {},
     "output_type": "execute_result"
    }
   ],
   "source": [
    "# 查看 df_te\n",
    "df_te"
   ]
  },
  {
   "cell_type": "code",
   "execution_count": 5,
   "metadata": {
    "colab": {
     "base_uri": "https://localhost:8080/"
    },
    "executionInfo": {
     "elapsed": 4,
     "status": "ok",
     "timestamp": 1700177311297,
     "user": {
      "displayName": "Jorge Limery",
      "userId": "02703735869977102912"
     },
     "user_tz": -480
    },
    "id": "_Gm9vUB0Ug3R",
    "outputId": "0760c158-9a21-432e-fe45-eae48b34aafb"
   },
   "outputs": [
    {
     "name": "stdout",
     "output_type": "stream",
     "text": [
      "<class 'pandas.core.frame.DataFrame'>\n",
      "RangeIndex: 3537 entries, 0 to 3536\n",
      "Data columns (total 6 columns):\n",
      " #   Column      Non-Null Count  Dtype \n",
      "---  ------      --------------  ----- \n",
      " 0   id          3537 non-null   int64 \n",
      " 1   v1          3537 non-null   object\n",
      " 2   v2          3537 non-null   object\n",
      " 3   Unnamed: 3  30 non-null     object\n",
      " 4   Unnamed: 4  9 non-null      object\n",
      " 5   Unnamed: 5  4 non-null      object\n",
      "dtypes: int64(1), object(5)\n",
      "memory usage: 165.9+ KB\n"
     ]
    }
   ],
   "source": [
    "# 查看 df_tr.info()\n",
    "df_tr.info()"
   ]
  },
  {
   "cell_type": "code",
   "execution_count": 6,
   "metadata": {
    "colab": {
     "base_uri": "https://localhost:8080/"
    },
    "executionInfo": {
     "elapsed": 3,
     "status": "ok",
     "timestamp": 1700177311297,
     "user": {
      "displayName": "Jorge Limery",
      "userId": "02703735869977102912"
     },
     "user_tz": -480
    },
    "id": "w4Qog9Z0Uw7K",
    "outputId": "7abd9555-c6e1-4834-8fde-d0a6f2eb1888"
   },
   "outputs": [
    {
     "name": "stdout",
     "output_type": "stream",
     "text": [
      "<class 'pandas.core.frame.DataFrame'>\n",
      "RangeIndex: 2035 entries, 0 to 2034\n",
      "Data columns (total 4 columns):\n",
      " #   Column  Non-Null Count  Dtype \n",
      "---  ------  --------------  ----- \n",
      " 0   0       2035 non-null   object\n",
      " 1   1       20 non-null     object\n",
      " 2   2       3 non-null      object\n",
      " 3   3       2 non-null      object\n",
      "dtypes: object(4)\n",
      "memory usage: 63.7+ KB\n"
     ]
    }
   ],
   "source": [
    "# 查看 df_te.info()\n",
    "df_te.info()"
   ]
  },
  {
   "cell_type": "markdown",
   "metadata": {
    "id": "vG2UopMrUm2m"
   },
   "source": [
    "可以看到，数据有后三列杂列，这是由于 csv 解析逗号导致的，故合并后三列并重新规范命名"
   ]
  },
  {
   "cell_type": "code",
   "execution_count": 6,
   "metadata": {
    "executionInfo": {
     "elapsed": 2,
     "status": "ok",
     "timestamp": 1700177904777,
     "user": {
      "displayName": "Jorge Limery",
      "userId": "02703735869977102912"
     },
     "user_tz": -480
    },
    "id": "JX36gCxPUlr0"
   },
   "outputs": [],
   "source": [
    "# 将每行的第三列之后的内容合并到第三列\n",
    "df_tr['v2'] = df_tr.apply(lambda row: ','.join(map(str, filter(lambda x: pd.notna(x), row[2:]))), axis=1)\n",
    "df_tr = df_tr.iloc[:, :3]\n",
    "\n",
    "# 规范命名\n",
    "df_tr = df_tr[['v1', 'v2']].rename(columns={'v1': 'label', 'v2': 'content'})\n",
    "df_te = df_te[[0]].rename(columns={0: 'content'})"
   ]
  },
  {
   "cell_type": "code",
   "execution_count": 108,
   "metadata": {
    "colab": {
     "base_uri": "https://localhost:8080/",
     "height": 423
    },
    "executionInfo": {
     "elapsed": 3,
     "status": "ok",
     "timestamp": 1700177314328,
     "user": {
      "displayName": "Jorge Limery",
      "userId": "02703735869977102912"
     },
     "user_tz": -480
    },
    "id": "21kwu_rjVD99",
    "outputId": "5942c2b6-ca7b-4ef5-f7f7-f63ee7360d34"
   },
   "outputs": [
    {
     "data": {
      "text/html": [
       "<div>\n",
       "<style scoped>\n",
       "    .dataframe tbody tr th:only-of-type {\n",
       "        vertical-align: middle;\n",
       "    }\n",
       "\n",
       "    .dataframe tbody tr th {\n",
       "        vertical-align: top;\n",
       "    }\n",
       "\n",
       "    .dataframe thead th {\n",
       "        text-align: right;\n",
       "    }\n",
       "</style>\n",
       "<table border=\"1\" class=\"dataframe\">\n",
       "  <thead>\n",
       "    <tr style=\"text-align: right;\">\n",
       "      <th></th>\n",
       "      <th>label</th>\n",
       "      <th>content</th>\n",
       "    </tr>\n",
       "  </thead>\n",
       "  <tbody>\n",
       "    <tr>\n",
       "      <th>0</th>\n",
       "      <td>ham</td>\n",
       "      <td>Go until jurong point, crazy.. Available only ...</td>\n",
       "    </tr>\n",
       "    <tr>\n",
       "      <th>1</th>\n",
       "      <td>ham</td>\n",
       "      <td>Ok lar... Joking wif u oni...</td>\n",
       "    </tr>\n",
       "    <tr>\n",
       "      <th>2</th>\n",
       "      <td>spam</td>\n",
       "      <td>Free entry in 2 a wkly comp to win FA Cup fina...</td>\n",
       "    </tr>\n",
       "    <tr>\n",
       "      <th>3</th>\n",
       "      <td>ham</td>\n",
       "      <td>U dun say so early hor... U c already then say...</td>\n",
       "    </tr>\n",
       "    <tr>\n",
       "      <th>4</th>\n",
       "      <td>ham</td>\n",
       "      <td>Nah I don't think he goes to usf, he lives aro...</td>\n",
       "    </tr>\n",
       "    <tr>\n",
       "      <th>...</th>\n",
       "      <td>...</td>\n",
       "      <td>...</td>\n",
       "    </tr>\n",
       "    <tr>\n",
       "      <th>3532</th>\n",
       "      <td>ham</td>\n",
       "      <td>Sorry, I'll call later</td>\n",
       "    </tr>\n",
       "    <tr>\n",
       "      <th>3533</th>\n",
       "      <td>ham</td>\n",
       "      <td>Good evening! How are you?</td>\n",
       "    </tr>\n",
       "    <tr>\n",
       "      <th>3534</th>\n",
       "      <td>ham</td>\n",
       "      <td>I'm at home. Please call</td>\n",
       "    </tr>\n",
       "    <tr>\n",
       "      <th>3535</th>\n",
       "      <td>ham</td>\n",
       "      <td>Oic cos me n my sis got no lunch today my dad ...</td>\n",
       "    </tr>\n",
       "    <tr>\n",
       "      <th>3536</th>\n",
       "      <td>ham</td>\n",
       "      <td>Mmmmm ... It was sooooo good to wake to your w...</td>\n",
       "    </tr>\n",
       "  </tbody>\n",
       "</table>\n",
       "<p>3537 rows × 2 columns</p>\n",
       "</div>"
      ],
      "text/plain": [
       "     label                                            content\n",
       "0      ham  Go until jurong point, crazy.. Available only ...\n",
       "1      ham                      Ok lar... Joking wif u oni...\n",
       "2     spam  Free entry in 2 a wkly comp to win FA Cup fina...\n",
       "3      ham  U dun say so early hor... U c already then say...\n",
       "4      ham  Nah I don't think he goes to usf, he lives aro...\n",
       "...    ...                                                ...\n",
       "3532   ham                             Sorry, I'll call later\n",
       "3533   ham                         Good evening! How are you?\n",
       "3534   ham                           I'm at home. Please call\n",
       "3535   ham  Oic cos me n my sis got no lunch today my dad ...\n",
       "3536   ham  Mmmmm ... It was sooooo good to wake to your w...\n",
       "\n",
       "[3537 rows x 2 columns]"
      ]
     },
     "execution_count": 108,
     "metadata": {},
     "output_type": "execute_result"
    }
   ],
   "source": [
    "# 再次查看 df_tr\n",
    "df_tr"
   ]
  },
  {
   "cell_type": "code",
   "execution_count": 109,
   "metadata": {
    "colab": {
     "base_uri": "https://localhost:8080/",
     "height": 423
    },
    "executionInfo": {
     "elapsed": 629,
     "status": "ok",
     "timestamp": 1700177315475,
     "user": {
      "displayName": "Jorge Limery",
      "userId": "02703735869977102912"
     },
     "user_tz": -480
    },
    "id": "hiO_PMWtVJ9U",
    "outputId": "67702185-a070-4fde-ae1b-b8107b656cbd"
   },
   "outputs": [
    {
     "data": {
      "text/html": [
       "<div>\n",
       "<style scoped>\n",
       "    .dataframe tbody tr th:only-of-type {\n",
       "        vertical-align: middle;\n",
       "    }\n",
       "\n",
       "    .dataframe tbody tr th {\n",
       "        vertical-align: top;\n",
       "    }\n",
       "\n",
       "    .dataframe thead th {\n",
       "        text-align: right;\n",
       "    }\n",
       "</style>\n",
       "<table border=\"1\" class=\"dataframe\">\n",
       "  <thead>\n",
       "    <tr style=\"text-align: right;\">\n",
       "      <th></th>\n",
       "      <th>content</th>\n",
       "    </tr>\n",
       "  </thead>\n",
       "  <tbody>\n",
       "    <tr>\n",
       "      <th>0</th>\n",
       "      <td>We are pleased to inform that your application...</td>\n",
       "    </tr>\n",
       "    <tr>\n",
       "      <th>1</th>\n",
       "      <td>What happen dear. Why you silent. I am tensed</td>\n",
       "    </tr>\n",
       "    <tr>\n",
       "      <th>2</th>\n",
       "      <td>I'll get there at 3, unless you guys want me t...</td>\n",
       "    </tr>\n",
       "    <tr>\n",
       "      <th>3</th>\n",
       "      <td>If you are not coughing then its nothing</td>\n",
       "    </tr>\n",
       "    <tr>\n",
       "      <th>4</th>\n",
       "      <td>ÌÏ come lt 25 n pass to me lar</td>\n",
       "    </tr>\n",
       "    <tr>\n",
       "      <th>...</th>\n",
       "      <td>...</td>\n",
       "    </tr>\n",
       "    <tr>\n",
       "      <th>2030</th>\n",
       "      <td>This is the 2nd time we have tried 2 contact u...</td>\n",
       "    </tr>\n",
       "    <tr>\n",
       "      <th>2031</th>\n",
       "      <td>Will Ì_ b going to esplanade fr home?</td>\n",
       "    </tr>\n",
       "    <tr>\n",
       "      <th>2032</th>\n",
       "      <td>Pity, * was in mood for that. So...any other s...</td>\n",
       "    </tr>\n",
       "    <tr>\n",
       "      <th>2033</th>\n",
       "      <td>The guy did some bitching but I acted like i'd...</td>\n",
       "    </tr>\n",
       "    <tr>\n",
       "      <th>2034</th>\n",
       "      <td>Rofl. Its true to its name</td>\n",
       "    </tr>\n",
       "  </tbody>\n",
       "</table>\n",
       "<p>2035 rows × 1 columns</p>\n",
       "</div>"
      ],
      "text/plain": [
       "                                                content\n",
       "0     We are pleased to inform that your application...\n",
       "1         What happen dear. Why you silent. I am tensed\n",
       "2     I'll get there at 3, unless you guys want me t...\n",
       "3              If you are not coughing then its nothing\n",
       "4                        ÌÏ come lt 25 n pass to me lar\n",
       "...                                                 ...\n",
       "2030  This is the 2nd time we have tried 2 contact u...\n",
       "2031              Will Ì_ b going to esplanade fr home?\n",
       "2032  Pity, * was in mood for that. So...any other s...\n",
       "2033  The guy did some bitching but I acted like i'd...\n",
       "2034                         Rofl. Its true to its name\n",
       "\n",
       "[2035 rows x 1 columns]"
      ]
     },
     "execution_count": 109,
     "metadata": {},
     "output_type": "execute_result"
    }
   ],
   "source": [
    "# 再次查看 df_te\n",
    "df_te"
   ]
  },
  {
   "cell_type": "code",
   "execution_count": 13,
   "metadata": {
    "colab": {
     "base_uri": "https://localhost:8080/",
     "height": 430
    },
    "executionInfo": {
     "elapsed": 2360,
     "status": "ok",
     "timestamp": 1700175110670,
     "user": {
      "displayName": "Jorge Limery",
      "userId": "02703735869977102912"
     },
     "user_tz": -480
    },
    "id": "85u1nVl3VQzB",
    "outputId": "e256957b-16ea-45fa-b333-2940ba18bb7d"
   },
   "outputs": [
    {
     "data": {
      "image/png": "[encoded data removed]",
      "text/plain": [
       "<Figure size 640x480 with 1 Axes>"
      ]
     },
     "metadata": {},
     "output_type": "display_data"
    }
   ],
   "source": [
    "# df_tr 分布 - 直方图\n",
    "from matplotlib import pyplot as plt\n",
    "import seaborn as sns\n",
    "\n",
    "df_tr.groupby('label').size().plot(kind='barh', color=sns.palettes.mpl_palette('Dark2'))\n",
    "plt.gca().spines[['top', 'right',]].set_visible(False)"
   ]
  },
  {
   "cell_type": "code",
   "execution_count": 116,
   "metadata": {},
   "outputs": [
    {
     "data": {
      "image/png": "[encoded data removed]",
      "text/plain": [
       "<Figure size 600x600 with 1 Axes>"
      ]
     },
     "metadata": {},
     "output_type": "display_data"
    }
   ],
   "source": [
    "# df_tr 分布 - 饼图\n",
    "import matplotlib.pyplot as plt\n",
    "import seaborn as sns\n",
    "\n",
    "plt.figure(figsize=(6, 6))\n",
    "sns.set_palette(['lightgreen', 'orange'])\n",
    "df_tr['label'].value_counts().plot(kind='pie', labels=['ham', 'spam'], autopct='%0.2f%%')\n",
    "plt.axis('equal')\n",
    "plt.show()"
   ]
  },
  {
   "cell_type": "code",
   "execution_count": 142,
   "metadata": {},
   "outputs": [
    {
     "data": {
      "image/png": "[encoded data removed]",
      "text/plain": [
       "<Figure size 1200x400 with 3 Axes>"
      ]
     },
     "metadata": {},
     "output_type": "display_data"
    }
   ],
   "source": [
    "# 长度分布图\n",
    "import seaborn as sns\n",
    "import matplotlib.pyplot as plt\n",
    "\n",
    "df_tr_len = df_tr['content'].apply(lambda x: len(x))\n",
    "\n",
    "fig = plt.figure(figsize=(12, 4))\n",
    "\n",
    "plt.subplot(1, 3, 1)\n",
    "plt.title('all')\n",
    "sns.histplot(df_tr_len, color='blue', label='content', bins=500, kde=True)\n",
    "plt.subplot(1, 3, 2)\n",
    "plt.title('spam')\n",
    "sns.histplot(df_tr_len[df_tr['label']=='spam'], color='red', bins=100, kde=True)\n",
    "plt.subplot(1, 3, 3)\n",
    "plt.title('ham')\n",
    "sns.histplot(df_tr_len[df_tr['label']=='ham'], color='green', bins=300, kde=True)\n",
    "\n",
    "fig.tight_layout()\n",
    "plt.show()"
   ]
  },
  {
   "cell_type": "code",
   "execution_count": 120,
   "metadata": {
    "colab": {
     "base_uri": "https://localhost:8080/"
    },
    "executionInfo": {
     "elapsed": 627,
     "status": "ok",
     "timestamp": 1700177979024,
     "user": {
      "displayName": "Jorge Limery",
      "userId": "02703735869977102912"
     },
     "user_tz": -480
    },
    "id": "MHQernlHVVTe",
    "outputId": "bd4740a9-2848-44fa-e5e5-7489a306aca9"
   },
   "outputs": [
    {
     "name": "stdout",
     "output_type": "stream",
     "text": [
      "count    3537.000000\n",
      "mean       81.278202\n",
      "std        62.323330\n",
      "min         2.000000\n",
      "0%          2.000000\n",
      "5%         22.000000\n",
      "10%        25.000000\n",
      "15%        28.000000\n",
      "20%        32.000000\n",
      "25%        35.000000\n",
      "30%        39.000000\n",
      "35%        44.000000\n",
      "40%        49.000000\n",
      "45%        54.000000\n",
      "50%        61.000000\n",
      "55%        70.000000\n",
      "60%        80.000000\n",
      "65%        92.000000\n",
      "70%       108.000000\n",
      "75%       124.000000\n",
      "80%       139.000000\n",
      "85%       149.000000\n",
      "90%       156.000000\n",
      "95%       161.000000\n",
      "max       910.000000\n",
      "Name: content, dtype: float64\n"
     ]
    }
   ],
   "source": [
    "# 查看总长度分布数据\n",
    "print(df_tr_len.describe(percentiles=[i*0.05 for i in range(20)]))"
   ]
  },
  {
   "cell_type": "code",
   "execution_count": 121,
   "metadata": {},
   "outputs": [
    {
     "name": "stdout",
     "output_type": "stream",
     "text": [
      "count    3537.000000\n",
      "mean       81.278202\n",
      "std        62.323330\n",
      "min         2.000000\n",
      "50%        61.000000\n",
      "90%       156.000000\n",
      "91%       157.000000\n",
      "92%       158.000000\n",
      "93%       159.000000\n",
      "94%       160.000000\n",
      "95%       161.000000\n",
      "96%       165.000000\n",
      "97%       174.000000\n",
      "98%       195.000000\n",
      "99%       284.840000\n",
      "max       910.000000\n",
      "Name: content, dtype: float64\n"
     ]
    }
   ],
   "source": [
    "# 查看尾部长度分布\n",
    "print(df_tr_len.describe(percentiles=[0.9+i*0.01 for i in range(10)]))"
   ]
  },
  {
   "cell_type": "markdown",
   "metadata": {
    "id": "sQhLFuDUV2_u"
   },
   "source": [
    "## 3. 分类"
   ]
  },
  {
   "cell_type": "markdown",
   "metadata": {},
   "source": [
    "### 3.1 朴素贝叶斯"
   ]
  },
  {
   "cell_type": "markdown",
   "metadata": {},
   "source": [
    "在 sklearn 中，共有五种朴素贝叶斯算法：\n",
    "\n",
    "##### 1. BernoulliNB - 伯努利朴素贝叶斯\n",
    "模型适用于多元伯努利分布，即每个特征都是二值变量，如果不是二值变量，该模型可以先对变量进行二值化。\n",
    "\n",
    "在文档分类中特征是单词是否出现，如果该单词在某文件中出现了即为1，否则为0。\n",
    "\n",
    "在文本分类中，统计词语是否出现的向量(word occurrence vectors)(而非统计词语出现次数的向量(word count vectors))可以用于训练和使用这个分类器。\n",
    "\n",
    "BernoulliNB 可能在一些数据集上表现得更好，特别是那些更短的文档。如果时间允许，建议对两个模型都进行评估。\n",
    "\n",
    "---\n",
    "##### 2. CategoricalNB - 类朴素贝叶斯\n",
    "对分类分布的数据实施分类朴素贝叶斯算法，专用于离散数据集， 它假定由索引描述的每个特征都有其自己的分类分布。\n",
    "\n",
    "对于训练集中的每个特征 X，CNB 估计以类 y 为条件的 X 的每个特征 i 的分类分布。\n",
    "\n",
    "样本的索引集定义为 J = 1, …, m，其中 m 为样本数。\n",
    "\n",
    "---\n",
    "##### 3. GaussianNB - 高斯朴素贝叶斯\n",
    "特征变量是连续变量，符合高斯分布，比如说人的身高，物体的长度。这种模型假设特征符合高斯分布。\n",
    "\n",
    "---\n",
    "##### 4. MultinomialNB - 多项式朴素贝叶斯\n",
    "特征变量是离散变量，符合多项分布，在文档分类中特征变量体现在一个单词出现的次数，或者是单词的 TF-IDF 值等。\n",
    "\n",
    "不支持负数，所以输入变量特征的时候，不用 `StandardScaler` 进行标准化数据，可以使用 `MinMaxScaler` 进行归一化。\n",
    "\n",
    "这个模型假设特征复合多项式分布，是一种非常典型的文本分类模型，模型内部带有平滑参数 `alpha`。\n",
    "\n",
    "---\n",
    "##### 5. ComplementNB - 补充朴素贝叶斯\n",
    "是 MultinomialNB 模型的一个变种，实现了补码朴素贝叶斯(CNB)算法。\n",
    "\n",
    "CNB 是标准多项式朴素贝叶斯(MNB)算法的一种改进，比较适用于不平衡的数据集，在文本分类上的结果通常比 MultinomialNB 模型好。\n",
    "\n",
    "具体来说，CNB 使用来自每个类的补数的统计数据来计算模型的权重。\n",
    "\n",
    "CNB 的发明者的研究表明，CNB 的参数估计比 MNB 的参数估计更稳定。"
   ]
  },
  {
   "cell_type": "code",
   "execution_count": 1,
   "metadata": {},
   "outputs": [],
   "source": [
    "from sklearn.naive_bayes import BernoulliNB\n",
    "from sklearn.naive_bayes import CategoricalNB\n",
    "from sklearn.naive_bayes import GaussianNB\n",
    "from sklearn.naive_bayes import MultinomialNB\n",
    "from sklearn.naive_bayes import ComplementNB"
   ]
  },
  {
   "cell_type": "markdown",
   "metadata": {},
   "source": [
    "理论上来说，MultinomialNB 和 ComplementNB 的表现应该是最好的。这五种算法我们都会进行探索。\n",
    "\n",
    "篇幅有限，贝叶斯分类算法中，我们都将默认使用 Optuna 进行超参数调优，不再对比无调优情况。"
   ]
  },
  {
   "cell_type": "markdown",
   "metadata": {},
   "source": [
    "#### 3.1.1 数据准备"
   ]
  },
  {
   "cell_type": "code",
   "execution_count": 2,
   "metadata": {},
   "outputs": [],
   "source": [
    "# 从头加载数据，避免未执行前面的单元\n",
    "import chardet\n",
    "import pandas as pd\n",
    "\n",
    "# 检测编码\n",
    "def detect_encoding(file_path):\n",
    "    with open(file_path, 'rb') as f:\n",
    "        result = chardet.detect(f.read())\n",
    "    return result['encoding']\n",
    "\n",
    "# 原文件并非 utf-8 编码格式\n",
    "df_tr = pd.read_csv('train.csv', encoding=detect_encoding('train.csv'))             # df_train\n",
    "df_te = pd.read_csv('test.csv', encoding=detect_encoding('test.csv'), header=None)  # df_test\n",
    "\n",
    "# 将每行的第三列之后的内容合并到第三列\n",
    "df_tr['v2'] = df_tr.apply(lambda row: ','.join(map(str, filter(lambda x: pd.notna(x), row[2:]))), axis=1)\n",
    "df_tr = df_tr.iloc[:, :3]\n",
    "\n",
    "# 规范命名\n",
    "df_tr = df_tr[['v1', 'v2']].rename(columns={'v1': 'label', 'v2': 'content'})\n",
    "df_te = df_te[[0]].rename(columns={0: 'content'})"
   ]
  },
  {
   "cell_type": "code",
   "execution_count": 3,
   "metadata": {},
   "outputs": [
    {
     "data": {
      "text/plain": [
       "((3537,), (3537,))"
      ]
     },
     "execution_count": 3,
     "metadata": {},
     "output_type": "execute_result"
    }
   ],
   "source": [
    "# 数据划分\n",
    "x = df_tr['content']                                            # 内容\n",
    "y = df_tr['label'].apply(lambda x: 1 if x == 'spam' else 0)     # 标签\n",
    "x.shape, y.shape"
   ]
  },
  {
   "cell_type": "code",
   "execution_count": 4,
   "metadata": {},
   "outputs": [
    {
     "data": {
      "text/plain": [
       "((2829,), (708,))"
      ]
     },
     "execution_count": 4,
     "metadata": {},
     "output_type": "execute_result"
    }
   ],
   "source": [
    "# 划分训练集和验证集\n",
    "# 8 : 2\n",
    "from sklearn.model_selection import train_test_split\n",
    "\n",
    "x_train, x_test, y_train, y_test = train_test_split(x, y, test_size=0.2, random_state=3407)\n",
    "x_train.shape, x_test.shape"
   ]
  },
  {
   "cell_type": "code",
   "execution_count": 5,
   "metadata": {},
   "outputs": [
    {
     "data": {
      "text/plain": [
       "(2035,)"
      ]
     },
     "execution_count": 5,
     "metadata": {},
     "output_type": "execute_result"
    }
   ],
   "source": [
    "# 需要预测的真实测试集\n",
    "real_x = df_te['content']\n",
    "real_x.shape"
   ]
  },
  {
   "cell_type": "markdown",
   "metadata": {},
   "source": [
    "#### 3.1.2 分类"
   ]
  },
  {
   "cell_type": "code",
   "execution_count": 17,
   "metadata": {},
   "outputs": [
    {
     "data": {
      "text/plain": [
       "array([[0, 0, 0, ..., 0, 0, 0],\n",
       "       [0, 0, 0, ..., 0, 0, 0],\n",
       "       [0, 0, 0, ..., 0, 0, 0],\n",
       "       ...,\n",
       "       [0, 0, 0, ..., 0, 0, 0],\n",
       "       [0, 0, 0, ..., 0, 0, 0],\n",
       "       [0, 0, 0, ..., 0, 0, 0]])"
      ]
     },
     "execution_count": 17,
     "metadata": {},
     "output_type": "execute_result"
    }
   ],
   "source": [
    "# 用于将文本数据转换为词袋模型的表示形式，即将文本转换为词频矩阵\n",
    "from sklearn.feature_extraction.text import CountVectorizer\n",
    "\n",
    "cv = CountVectorizer()\n",
    "x_train_cnt = cv.fit_transform(x_train.values)\n",
    "x_test_cnt = cv.transform(x_test.values)\n",
    "real_x_cnt = cv.transform(real_x.values)\n",
    "\n",
    "x_train_cnt.toarray()"
   ]
  },
  {
   "cell_type": "code",
   "execution_count": 7,
   "metadata": {},
   "outputs": [
    {
     "name": "stderr",
     "output_type": "stream",
     "text": [
      "/opt/conda/lib/python3.10/site-packages/tqdm/auto.py:21: TqdmWarning: IProgress not found. Please update jupyter and ipywidgets. See https://ipywidgets.readthedocs.io/en/stable/user_install.html\n",
      "  from .autonotebook import tqdm as notebook_tqdm\n"
     ]
    }
   ],
   "source": [
    "import optuna.logging\n",
    "\n",
    "# 设置 Optuna 的日志级别为 WARNING，即 WARNING 以上才输出\n",
    "optuna.logging.set_verbosity(optuna.logging.WARNING)"
   ]
  },
  {
   "cell_type": "markdown",
   "metadata": {},
   "source": [
    "##### 3.1.2.1 BernoulliNB"
   ]
  },
  {
   "cell_type": "code",
   "execution_count": 18,
   "metadata": {},
   "outputs": [
    {
     "name": "stdout",
     "output_type": "stream",
     "text": [
      "Best alpha: 0.04664517822569222\n",
      "Best test value:  0.9901129943502824\n"
     ]
    }
   ],
   "source": [
    "import optuna\n",
    "\n",
    "def objective(trial):\n",
    "    alpha = trial.suggest_float('alpha', 1e-10, 1.0)\n",
    "    model = BernoulliNB(alpha=alpha)\n",
    "    model.fit(x_train_cnt, y_train)\n",
    "    return model.score(x_test_cnt, y_test)\n",
    "\n",
    "# 创建Optuna优化对象\n",
    "study = optuna.create_study(direction='maximize')\n",
    "study.optimize(objective, n_trials=300)\n",
    "\n",
    "# 输出最佳超参数取值\n",
    "best_alpha = study.best_params['alpha']\n",
    "best_test_value = study.best_value\n",
    "print(\"Best alpha:\", best_alpha)\n",
    "print(\"Best test value: \", best_test_value)\n",
    "\n",
    "# 用最佳超参数训练并预测\n",
    "best_mnb = BernoulliNB(alpha=best_alpha)\n",
    "best_mnb.fit(x_train_cnt, y_train)\n",
    "mnb_pred = best_mnb.predict(real_x_cnt)\n",
    "\n",
    "# 输出\n",
    "# ..."
   ]
  },
  {
   "cell_type": "markdown",
   "metadata": {},
   "source": [
    "##### 3.1.2.2 CategoricalNB"
   ]
  },
  {
   "cell_type": "code",
   "execution_count": null,
   "metadata": {},
   "outputs": [],
   "source": [
    "import optuna\n",
    "\n",
    "def objective(trial):\n",
    "    alpha = trial.suggest_float('alpha', 1e-10, 1.0)\n",
    "    model = CategoricalNB(alpha=alpha)\n",
    "    model.fit(x_train_cnt.toarray(), y_train)\n",
    "    return model.score(x_test_cnt.toarray(), y_test)\n",
    "\n",
    "# 创建Optuna优化对象\n",
    "study = optuna.create_study(direction='maximize')\n",
    "study.optimize(objective, n_trials=300)\n",
    "\n",
    "# 输出最佳超参数取值\n",
    "best_alpha = study.best_params['alpha']\n",
    "best_test_value = study.best_value\n",
    "print(\"Best alpha:\", best_alpha)\n",
    "print(\"Best test value: \", best_test_value)\n",
    "\n",
    "# 用最佳超参数训练并预测\n",
    "best_mnb = CategoricalNB(alpha=best_alpha)\n",
    "best_mnb.fit(x_train_cnt.toarray(), y_train)\n",
    "mnb_pred = best_mnb.predict(real_x_cnt.toarray())\n",
    "\n",
    "# 输出\n",
    "# ..."
   ]
  },
  {
   "cell_type": "markdown",
   "metadata": {},
   "source": [
    "##### 3.1.2.3 GaussianNB"
   ]
  },
  {
   "cell_type": "code",
   "execution_count": 13,
   "metadata": {},
   "outputs": [
    {
     "name": "stdout",
     "output_type": "stream",
     "text": [
      "Best var_smoothing: 0.3163251169367887\n",
      "Best test value:  0.9901129943502824\n"
     ]
    }
   ],
   "source": [
    "import optuna\n",
    "\n",
    "def objective(trial):\n",
    "    var_smoothing = trial.suggest_float('var_smoothing', 1e-10, 1.0)\n",
    "    model = GaussianNB(var_smoothing=var_smoothing)\n",
    "    model.fit(x_train_cnt.toarray(), y_train)\n",
    "    return model.score(x_test_cnt.toarray(), y_test)\n",
    "\n",
    "# 创建Optuna优化对象\n",
    "study = optuna.create_study(direction='maximize')\n",
    "study.optimize(objective, n_trials=100)\n",
    "\n",
    "# 输出最佳超参数取值\n",
    "best_var_smoothing = study.best_params['var_smoothing']\n",
    "best_test_value = study.best_value\n",
    "print(\"Best var_smoothing:\", best_alpha)\n",
    "print(\"Best test value: \", best_test_value)\n",
    "\n",
    "# 用最佳超参数训练并预测\n",
    "best_mnb = GaussianNB(var_smoothing=best_var_smoothing)\n",
    "best_mnb.fit(x_train_cnt.toarray(), y_train)\n",
    "mnb_pred = best_mnb.predict(real_x_cnt.toarray())\n",
    "\n",
    "# 输出\n",
    "# ..."
   ]
  },
  {
   "cell_type": "markdown",
   "metadata": {},
   "source": [
    "##### 3.1.2.4 MultinomialNB"
   ]
  },
  {
   "cell_type": "code",
   "execution_count": 14,
   "metadata": {},
   "outputs": [
    {
     "name": "stdout",
     "output_type": "stream",
     "text": [
      "Best alpha: 0.7932421694220678\n",
      "Best test value:  0.9887005649717514\n"
     ]
    }
   ],
   "source": [
    "import optuna\n",
    "\n",
    "def objective(trial):\n",
    "    alpha = trial.suggest_float('alpha', 1e-10, 1.0)\n",
    "    model = MultinomialNB(alpha=alpha)\n",
    "    model.fit(x_train_cnt, y_train)\n",
    "    return model.score(x_test_cnt, y_test)\n",
    "\n",
    "# 创建Optuna优化对象\n",
    "study = optuna.create_study(direction='maximize')\n",
    "study.optimize(objective, n_trials=300)\n",
    "\n",
    "# 输出最佳超参数取值\n",
    "best_alpha = study.best_params['alpha']\n",
    "best_test_value = study.best_value\n",
    "print(\"Best alpha:\", best_alpha)\n",
    "print(\"Best test value: \", best_test_value)\n",
    "\n",
    "# 用最佳超参数训练并预测\n",
    "best_mnb = MultinomialNB(alpha=best_alpha)\n",
    "best_mnb.fit(x_train_cnt, y_train)\n",
    "mnb_pred = best_mnb.predict(real_x_cnt)\n",
    "\n",
    "# 输出\n",
    "# ..."
   ]
  },
  {
   "cell_type": "markdown",
   "metadata": {},
   "source": [
    "##### 3.1.2.5 ComplementNB"
   ]
  },
  {
   "cell_type": "code",
   "execution_count": 15,
   "metadata": {},
   "outputs": [
    {
     "name": "stdout",
     "output_type": "stream",
     "text": [
      "Best alpha: 0.25508267533275286\n",
      "Best test value:  0.9901129943502824\n"
     ]
    }
   ],
   "source": [
    "import optuna\n",
    "\n",
    "def objective(trial):\n",
    "    alpha = trial.suggest_float('alpha', 1e-10, 1.0)\n",
    "    model = ComplementNB(alpha=alpha)\n",
    "    model.fit(x_train_cnt, y_train)\n",
    "    return model.score(x_test_cnt, y_test)\n",
    "\n",
    "# 创建Optuna优化对象\n",
    "study = optuna.create_study(direction='maximize')\n",
    "study.optimize(objective, n_trials=300)\n",
    "\n",
    "# 输出最佳超参数取值\n",
    "best_alpha = study.best_params['alpha']\n",
    "best_test_value = study.best_value\n",
    "print(\"Best alpha:\", best_alpha)\n",
    "print(\"Best test value: \", best_test_value)\n",
    "\n",
    "# 用最佳超参数训练并预测\n",
    "best_mnb = ComplementNB(alpha=best_alpha)\n",
    "best_mnb.fit(x_train_cnt, y_train)\n",
    "mnb_pred = best_mnb.predict(real_x_cnt)\n",
    "\n",
    "# 输出\n",
    "# ..."
   ]
  },
  {
   "cell_type": "markdown",
   "source": [
    "### 3.2 LSTM"
   ],
   "metadata": {
    "collapsed": false
   }
  },
  {
   "cell_type": "markdown",
   "source": [
    "#### 3.2.1 数据准备"
   ],
   "metadata": {
    "collapsed": false
   }
  },
  {
   "cell_type": "code",
   "execution_count": 17,
   "outputs": [],
   "source": [
    "# 从头加载数据，避免未执行前面的单元\n",
    "import chardet\n",
    "import pandas as pd\n",
    "\n",
    "# 检测编码\n",
    "def detect_encoding(file_path):\n",
    "    with open(file_path, 'rb') as f:\n",
    "        result = chardet.detect(f.read())\n",
    "    return result['encoding']\n",
    "\n",
    "# 原文件并非 utf-8 编码格式\n",
    "df_tr = pd.read_csv('train.csv', encoding=detect_encoding('train.csv'))             # df_train\n",
    "df_te = pd.read_csv('test.csv', encoding=detect_encoding('test.csv'), header=None)  # df_test\n",
    "\n",
    "# 将每行的第三列之后的内容合并到第三列\n",
    "df_tr['v2'] = df_tr.apply(lambda row: ','.join(map(str, filter(lambda x: pd.notna(x), row[2:]))), axis=1)\n",
    "df_tr = df_tr.iloc[:, :3]\n",
    "\n",
    "# 规范命名\n",
    "df_tr = df_tr[['v1', 'v2']].rename(columns={'v1': 'label', 'v2': 'content'})\n",
    "df_te = df_te[[0]].rename(columns={0: 'content'})"
   ],
   "metadata": {
    "collapsed": false,
    "ExecuteTime": {
     "end_time": "2023-12-09T05:11:30.813921200Z",
     "start_time": "2023-12-09T05:11:29.007157900Z"
    }
   }
  },
  {
   "cell_type": "code",
   "execution_count": 18,
   "outputs": [],
   "source": [
    "import torch\n",
    "import torch.nn as nn\n",
    "import torch.optim as optim\n",
    "from sklearn.model_selection import train_test_split\n",
    "from sklearn.feature_extraction.text import CountVectorizer\n",
    "from torch.utils.data import Dataset, DataLoader\n",
    "from tqdm import tqdm\n",
    "\n",
    "# 数据预处理\n",
    "X_train, X_val, y_train, y_val = train_test_split(df_tr['content'], df_tr['label'], test_size=0.2, random_state=42)\n",
    "\n",
    "# 使用CountVectorizer将文本转换为词袋模型\n",
    "vectorizer = CountVectorizer()\n",
    "X_train_vec = vectorizer.fit_transform(X_train)\n",
    "X_val_vec = vectorizer.transform(X_val)\n",
    "\n",
    "# 转换为PyTorch Tensor\n",
    "X_train_tensor = torch.tensor(X_train_vec.toarray(), dtype=torch.float32)\n",
    "y_train_tensor = torch.tensor(y_train.map({'ham': 0, 'spam': 1}).values, dtype=torch.float32)\n",
    "X_val_tensor = torch.tensor(X_val_vec.toarray(), dtype=torch.float32)\n",
    "y_val_tensor = torch.tensor(y_val.map({'ham': 0, 'spam': 1}).values, dtype=torch.float32)\n",
    "\n",
    "# 定义数据集类\n",
    "class SpamDataset(Dataset):\n",
    "    def __init__(self, features, labels):\n",
    "        self.features = features\n",
    "        self.labels = labels\n",
    "\n",
    "    def __len__(self):\n",
    "        return len(self.features)\n",
    "\n",
    "    def __getitem__(self, idx):\n",
    "        return self.features[idx], self.labels[idx]\n",
    "\n",
    "# 创建数据加载器\n",
    "train_dataset = SpamDataset(X_train_tensor, y_train_tensor)\n",
    "train_loader = DataLoader(train_dataset, batch_size=64, shuffle=True)"
   ],
   "metadata": {
    "collapsed": false,
    "ExecuteTime": {
     "end_time": "2023-12-09T05:11:30.932495400Z",
     "start_time": "2023-12-09T05:11:30.816852700Z"
    }
   }
  },
  {
   "cell_type": "code",
   "execution_count": 19,
   "outputs": [],
   "source": [
    "# 定义LSTM模型\n",
    "class SpamClassifier(nn.Module):\n",
    "    def __init__(self, input_size, hidden_size, output_size):\n",
    "        super(SpamClassifier, self).__init__()\n",
    "        self.lstm = nn.LSTM(input_size, hidden_size, batch_first=True)\n",
    "        self.fc = nn.Linear(hidden_size, output_size)\n",
    "        self.sigmoid = nn.Sigmoid()\n",
    "\n",
    "    def forward(self, x):\n",
    "        out, _ = self.lstm(x.unsqueeze(1))  # 添加一个维度\n",
    "        out = self.fc(out[:, -1, :])\n",
    "        out = self.sigmoid(out)\n",
    "        return out"
   ],
   "metadata": {
    "collapsed": false,
    "ExecuteTime": {
     "end_time": "2023-12-09T05:11:30.951255100Z",
     "start_time": "2023-12-09T05:11:30.932495400Z"
    }
   }
  },
  {
   "cell_type": "code",
   "execution_count": 20,
   "outputs": [],
   "source": [
    "# 初始化模型、损失函数和优化器\n",
    "input_size = X_train_tensor.shape[1]\n",
    "hidden_size = 128\n",
    "output_size = 1\n",
    "model = SpamClassifier(input_size, hidden_size, output_size)\n",
    "criterion = nn.BCELoss()\n",
    "optimizer = optim.Adam(model.parameters(), lr=0.001)"
   ],
   "metadata": {
    "collapsed": false,
    "ExecuteTime": {
     "end_time": "2023-12-09T05:11:30.966867200Z",
     "start_time": "2023-12-09T05:11:30.940507300Z"
    }
   }
  },
  {
   "cell_type": "code",
   "execution_count": 21,
   "outputs": [
    {
     "name": "stderr",
     "output_type": "stream",
     "text": [
      "\n",
      "Epoch 1/10:   0%|          | 0/45 [00:00<?, ?it/s]\u001B[A\n",
      "Epoch 1/10:   9%|▉         | 4/45 [00:00<00:01, 33.91it/s]\u001B[A\n",
      "Epoch 1/10:  20%|██        | 9/45 [00:00<00:00, 37.83it/s]\u001B[A\n",
      "Epoch 1/10:  29%|██▉       | 13/45 [00:00<00:00, 37.86it/s]\u001B[A\n",
      "Epoch 1/10:  40%|████      | 18/45 [00:00<00:00, 38.62it/s]\u001B[A\n",
      "Epoch 1/10:  51%|█████     | 23/45 [00:00<00:00, 39.56it/s]\u001B[A\n",
      "Epoch 1/10:  62%|██████▏   | 28/45 [00:00<00:00, 40.04it/s]\u001B[A\n",
      "Epoch 1/10:  73%|███████▎  | 33/45 [00:00<00:00, 40.44it/s]\u001B[A\n",
      "Epoch 1/10:  84%|████████▍ | 38/45 [00:00<00:00, 40.46it/s]\u001B[A\n",
      "Epoch 1/10: 100%|██████████| 45/45 [00:01<00:00, 39.75it/s]\u001B[A\n"
     ]
    },
    {
     "name": "stdout",
     "output_type": "stream",
     "text": [
      "Epoch 1/10, Loss: 0.532495645682017\n"
     ]
    },
    {
     "name": "stderr",
     "output_type": "stream",
     "text": [
      "\n",
      "Epoch 2/10:   0%|          | 0/45 [00:00<?, ?it/s]\u001B[A\n",
      "Epoch 2/10:  11%|█         | 5/45 [00:00<00:00, 42.64it/s]\u001B[A\n",
      "Epoch 2/10:  22%|██▏       | 10/45 [00:00<00:00, 41.03it/s]\u001B[A\n",
      "Epoch 2/10:  33%|███▎      | 15/45 [00:00<00:00, 40.25it/s]\u001B[A\n",
      "Epoch 2/10:  44%|████▍     | 20/45 [00:00<00:00, 40.17it/s]\u001B[A\n",
      "Epoch 2/10:  56%|█████▌    | 25/45 [00:00<00:00, 39.87it/s]\u001B[A\n",
      "Epoch 2/10:  64%|██████▍   | 29/45 [00:00<00:00, 39.65it/s]\u001B[A\n",
      "Epoch 2/10:  73%|███████▎  | 33/45 [00:00<00:00, 39.57it/s]\u001B[A\n",
      "Epoch 2/10:  82%|████████▏ | 37/45 [00:00<00:00, 39.51it/s]\u001B[A\n",
      "Epoch 2/10: 100%|██████████| 45/45 [00:01<00:00, 40.15it/s]\u001B[A\n"
     ]
    },
    {
     "name": "stdout",
     "output_type": "stream",
     "text": [
      "Epoch 2/10, Loss: 0.237653453151385\n"
     ]
    },
    {
     "name": "stderr",
     "output_type": "stream",
     "text": [
      "\n",
      "Epoch 3/10:   0%|          | 0/45 [00:00<?, ?it/s]\u001B[A\n",
      "Epoch 3/10:  11%|█         | 5/45 [00:00<00:00, 40.29it/s]\u001B[A\n",
      "Epoch 3/10:  22%|██▏       | 10/45 [00:00<00:00, 41.05it/s]\u001B[A\n",
      "Epoch 3/10:  33%|███▎      | 15/45 [00:00<00:00, 41.00it/s]\u001B[A\n",
      "Epoch 3/10:  44%|████▍     | 20/45 [00:00<00:00, 41.17it/s]\u001B[A\n",
      "Epoch 3/10:  56%|█████▌    | 25/45 [00:00<00:00, 41.41it/s]\u001B[A\n",
      "Epoch 3/10:  67%|██████▋   | 30/45 [00:00<00:00, 41.25it/s]\u001B[A\n",
      "Epoch 3/10:  78%|███████▊  | 35/45 [00:00<00:00, 41.08it/s]\u001B[A\n",
      "Epoch 3/10:  89%|████████▉ | 40/45 [00:00<00:00, 40.50it/s]\u001B[A\n",
      "Epoch 3/10: 100%|██████████| 45/45 [00:01<00:00, 40.88it/s]\u001B[A\n"
     ]
    },
    {
     "name": "stdout",
     "output_type": "stream",
     "text": [
      "Epoch 3/10, Loss: 0.09333996238807837\n"
     ]
    },
    {
     "name": "stderr",
     "output_type": "stream",
     "text": [
      "\n",
      "Epoch 4/10:   0%|          | 0/45 [00:00<?, ?it/s]\u001B[A\n",
      "Epoch 4/10:  11%|█         | 5/45 [00:00<00:00, 40.90it/s]\u001B[A\n",
      "Epoch 4/10:  22%|██▏       | 10/45 [00:00<00:00, 41.00it/s]\u001B[A\n",
      "Epoch 4/10:  33%|███▎      | 15/45 [00:00<00:00, 40.48it/s]\u001B[A\n",
      "Epoch 4/10:  44%|████▍     | 20/45 [00:00<00:00, 40.43it/s]\u001B[A\n",
      "Epoch 4/10:  56%|█████▌    | 25/45 [00:00<00:00, 40.23it/s]\u001B[A\n",
      "Epoch 4/10:  67%|██████▋   | 30/45 [00:00<00:00, 39.93it/s]\u001B[A\n",
      "Epoch 4/10:  78%|███████▊  | 35/45 [00:00<00:00, 40.35it/s]\u001B[A\n",
      "Epoch 4/10:  89%|████████▉ | 40/45 [00:00<00:00, 40.33it/s]\u001B[A\n",
      "Epoch 4/10: 100%|██████████| 45/45 [00:01<00:00, 40.29it/s]\u001B[A\n"
     ]
    },
    {
     "name": "stdout",
     "output_type": "stream",
     "text": [
      "Epoch 4/10, Loss: 0.04695290985206763\n"
     ]
    },
    {
     "name": "stderr",
     "output_type": "stream",
     "text": [
      "\n",
      "Epoch 5/10:   0%|          | 0/45 [00:00<?, ?it/s]\u001B[A\n",
      "Epoch 5/10:   9%|▉         | 4/45 [00:00<00:01, 39.73it/s]\u001B[A\n",
      "Epoch 5/10:  20%|██        | 9/45 [00:00<00:00, 40.57it/s]\u001B[A\n",
      "Epoch 5/10:  31%|███       | 14/45 [00:00<00:00, 40.74it/s]\u001B[A\n",
      "Epoch 5/10:  42%|████▏     | 19/45 [00:00<00:00, 40.42it/s]\u001B[A\n",
      "Epoch 5/10:  53%|█████▎    | 24/45 [00:00<00:00, 39.99it/s]\u001B[A\n",
      "Epoch 5/10:  62%|██████▏   | 28/45 [00:00<00:00, 39.92it/s]\u001B[A\n",
      "Epoch 5/10:  73%|███████▎  | 33/45 [00:00<00:00, 40.04it/s]\u001B[A\n",
      "Epoch 5/10:  84%|████████▍ | 38/45 [00:00<00:00, 40.02it/s]\u001B[A\n",
      "Epoch 5/10: 100%|██████████| 45/45 [00:01<00:00, 40.04it/s]\u001B[A\n"
     ]
    },
    {
     "name": "stdout",
     "output_type": "stream",
     "text": [
      "Epoch 5/10, Loss: 0.02688459021349748\n"
     ]
    },
    {
     "name": "stderr",
     "output_type": "stream",
     "text": [
      "\n",
      "Epoch 6/10:   0%|          | 0/45 [00:00<?, ?it/s]\u001B[A\n",
      "Epoch 6/10:  11%|█         | 5/45 [00:00<00:00, 41.94it/s]\u001B[A\n",
      "Epoch 6/10:  22%|██▏       | 10/45 [00:00<00:00, 40.20it/s]\u001B[A\n",
      "Epoch 6/10:  33%|███▎      | 15/45 [00:00<00:00, 39.67it/s]\u001B[A\n",
      "Epoch 6/10:  42%|████▏     | 19/45 [00:00<00:00, 39.25it/s]\u001B[A\n",
      "Epoch 6/10:  51%|█████     | 23/45 [00:00<00:00, 39.41it/s]\u001B[A\n",
      "Epoch 6/10:  62%|██████▏   | 28/45 [00:00<00:00, 39.72it/s]\u001B[A\n",
      "Epoch 6/10:  73%|███████▎  | 33/45 [00:00<00:00, 40.30it/s]\u001B[A\n",
      "Epoch 6/10:  84%|████████▍ | 38/45 [00:00<00:00, 40.29it/s]\u001B[A\n",
      "Epoch 6/10: 100%|██████████| 45/45 [00:01<00:00, 40.11it/s]\u001B[A\n"
     ]
    },
    {
     "name": "stdout",
     "output_type": "stream",
     "text": [
      "Epoch 6/10, Loss: 0.015931633156206874\n"
     ]
    },
    {
     "name": "stderr",
     "output_type": "stream",
     "text": [
      "\n",
      "Epoch 7/10:   0%|          | 0/45 [00:00<?, ?it/s]\u001B[A\n",
      "Epoch 7/10:   9%|▉         | 4/45 [00:00<00:01, 39.54it/s]\u001B[A\n",
      "Epoch 7/10:  20%|██        | 9/45 [00:00<00:00, 40.78it/s]\u001B[A\n",
      "Epoch 7/10:  31%|███       | 14/45 [00:00<00:00, 40.01it/s]\u001B[A\n",
      "Epoch 7/10:  42%|████▏     | 19/45 [00:00<00:00, 40.69it/s]\u001B[A\n",
      "Epoch 7/10:  53%|█████▎    | 24/45 [00:00<00:00, 40.72it/s]\u001B[A\n",
      "Epoch 7/10:  64%|██████▍   | 29/45 [00:00<00:00, 40.24it/s]\u001B[A\n",
      "Epoch 7/10:  76%|███████▌  | 34/45 [00:00<00:00, 40.22it/s]\u001B[A\n",
      "Epoch 7/10:  87%|████████▋ | 39/45 [00:00<00:00, 40.53it/s]\u001B[A\n",
      "Epoch 7/10: 100%|██████████| 45/45 [00:01<00:00, 40.55it/s]\u001B[A\n"
     ]
    },
    {
     "name": "stdout",
     "output_type": "stream",
     "text": [
      "Epoch 7/10, Loss: 0.00993757338470055\n"
     ]
    },
    {
     "name": "stderr",
     "output_type": "stream",
     "text": [
      "\n",
      "Epoch 8/10:   0%|          | 0/45 [00:00<?, ?it/s]\u001B[A\n",
      "Epoch 8/10:  11%|█         | 5/45 [00:00<00:00, 40.29it/s]\u001B[A\n",
      "Epoch 8/10:  22%|██▏       | 10/45 [00:00<00:00, 40.64it/s]\u001B[A\n",
      "Epoch 8/10:  33%|███▎      | 15/45 [00:00<00:00, 41.06it/s]\u001B[A\n",
      "Epoch 8/10:  44%|████▍     | 20/45 [00:00<00:00, 40.79it/s]\u001B[A\n",
      "Epoch 8/10:  56%|█████▌    | 25/45 [00:00<00:00, 40.61it/s]\u001B[A\n",
      "Epoch 8/10:  67%|██████▋   | 30/45 [00:00<00:00, 40.61it/s]\u001B[A\n",
      "Epoch 8/10:  78%|███████▊  | 35/45 [00:00<00:00, 40.18it/s]\u001B[A\n",
      "Epoch 8/10:  89%|████████▉ | 40/45 [00:00<00:00, 40.31it/s]\u001B[A\n",
      "Epoch 8/10: 100%|██████████| 45/45 [00:01<00:00, 40.08it/s]\u001B[A\n"
     ]
    },
    {
     "name": "stdout",
     "output_type": "stream",
     "text": [
      "Epoch 8/10, Loss: 0.007307203729740448\n"
     ]
    },
    {
     "name": "stderr",
     "output_type": "stream",
     "text": [
      "\n",
      "Epoch 9/10:   0%|          | 0/45 [00:00<?, ?it/s]\u001B[A\n",
      "Epoch 9/10:  11%|█         | 5/45 [00:00<00:00, 40.41it/s]\u001B[A\n",
      "Epoch 9/10:  22%|██▏       | 10/45 [00:00<00:00, 40.53it/s]\u001B[A\n",
      "Epoch 9/10:  33%|███▎      | 15/45 [00:00<00:00, 40.25it/s]\u001B[A\n",
      "Epoch 9/10:  44%|████▍     | 20/45 [00:00<00:00, 39.59it/s]\u001B[A\n",
      "Epoch 9/10:  53%|█████▎    | 24/45 [00:00<00:00, 38.14it/s]\u001B[A\n",
      "Epoch 9/10:  62%|██████▏   | 28/45 [00:00<00:00, 38.12it/s]\u001B[A\n",
      "Epoch 9/10:  71%|███████   | 32/45 [00:00<00:00, 38.60it/s]\u001B[A\n",
      "Epoch 9/10:  82%|████████▏ | 37/45 [00:00<00:00, 39.22it/s]\u001B[A\n",
      "Epoch 9/10: 100%|██████████| 45/45 [00:01<00:00, 39.49it/s]\u001B[A\n"
     ]
    },
    {
     "name": "stdout",
     "output_type": "stream",
     "text": [
      "Epoch 9/10, Loss: 0.004791276829524173\n"
     ]
    },
    {
     "name": "stderr",
     "output_type": "stream",
     "text": [
      "\n",
      "Epoch 10/10:   0%|          | 0/45 [00:00<?, ?it/s]\u001B[A\n",
      "Epoch 10/10:  11%|█         | 5/45 [00:00<00:00, 40.43it/s]\u001B[A\n",
      "Epoch 10/10:  22%|██▏       | 10/45 [00:00<00:00, 40.16it/s]\u001B[A\n",
      "Epoch 10/10:  33%|███▎      | 15/45 [00:00<00:00, 39.65it/s]\u001B[A\n",
      "Epoch 10/10:  42%|████▏     | 19/45 [00:00<00:00, 39.70it/s]\u001B[A\n",
      "Epoch 10/10:  53%|█████▎    | 24/45 [00:00<00:00, 39.92it/s]\u001B[A\n",
      "Epoch 10/10:  64%|██████▍   | 29/45 [00:00<00:00, 40.27it/s]\u001B[A\n",
      "Epoch 10/10:  76%|███████▌  | 34/45 [00:00<00:00, 40.60it/s]\u001B[A\n",
      "Epoch 10/10:  87%|████████▋ | 39/45 [00:00<00:00, 40.44it/s]\u001B[A\n",
      "Epoch 10/10: 100%|██████████| 45/45 [00:01<00:00, 40.49it/s]\u001B[A"
     ]
    },
    {
     "name": "stdout",
     "output_type": "stream",
     "text": [
      "Epoch 10/10, Loss: 0.0036608873271486825\n"
     ]
    },
    {
     "name": "stderr",
     "output_type": "stream",
     "text": [
      "\n"
     ]
    }
   ],
   "source": [
    "# 训练模型\n",
    "num_epochs = 10\n",
    "for epoch in range(num_epochs):\n",
    "    model.train()\n",
    "    total_loss = 0\n",
    "    for batch_X, batch_y in tqdm(train_loader, desc=f'Epoch {epoch + 1}/{num_epochs}'):\n",
    "        optimizer.zero_grad()\n",
    "        output = model(batch_X)\n",
    "        loss = criterion(output.squeeze(), batch_y)\n",
    "        loss.backward()\n",
    "        optimizer.step()\n",
    "        total_loss += loss.item()\n",
    "    \n",
    "    print(f'Epoch {epoch + 1}/{num_epochs}, Loss: {total_loss / len(train_loader)}')"
   ],
   "metadata": {
    "collapsed": false,
    "ExecuteTime": {
     "end_time": "2023-12-09T05:11:42.378203600Z",
     "start_time": "2023-12-09T05:11:31.129075800Z"
    }
   }
  },
  {
   "cell_type": "code",
   "execution_count": 22,
   "outputs": [
    {
     "name": "stdout",
     "output_type": "stream",
     "text": [
      "Validation Loss: 0.09964179992675781, Accuracy: 0.9788135593220338\n"
     ]
    }
   ],
   "source": [
    "# 在验证集上评估模型\n",
    "model.eval()\n",
    "with torch.no_grad():\n",
    "    val_output = model(X_val_tensor)\n",
    "    val_loss = criterion(val_output.squeeze(), y_val_tensor)\n",
    "    val_preds = (val_output.squeeze() >= 0.5).float()\n",
    "    accuracy = torch.sum(val_preds == y_val_tensor).item() / len(y_val_tensor)\n",
    "\n",
    "print(f'Validation Loss: {val_loss.item()}, Accuracy: {accuracy}')\n"
   ],
   "metadata": {
    "collapsed": false,
    "ExecuteTime": {
     "end_time": "2023-12-09T05:11:42.520422700Z",
     "start_time": "2023-12-09T05:11:42.353773300Z"
    }
   }
  },
  {
   "cell_type": "markdown",
   "source": [
    "#### 3.2.3 optuna调优"
   ],
   "metadata": {
    "collapsed": false
   }
  },
  {
   "cell_type": "code",
   "execution_count": 23,
   "outputs": [
    {
     "name": "stderr",
     "output_type": "stream",
     "text": [
      "[I 2023-12-09 13:11:42,432] A new study created in memory with name: no-name-e4622bb3-b9ff-4518-9e36-f4576fccb3d4\n",
      "C:\\Users\\99702\\AppData\\Local\\Temp\\ipykernel_7956\\4180536850.py:6: FutureWarning: suggest_loguniform has been deprecated in v3.0.0. This feature will be removed in v6.0.0. See https://github.com/optuna/optuna/releases/tag/v3.0.0. Use suggest_float(..., log=True) instead.\n",
      "  learning_rate = trial.suggest_loguniform('learning_rate', 1e-5, 1e-2)\n",
      "[I 2023-12-09 13:11:47,858] Trial 0 finished with value: 0.8742937853107344 and parameters: {'hidden_size': 109, 'learning_rate': 1.1996277208846616e-05}. Best is trial 0 with value: 0.8742937853107344.\n",
      "[I 2023-12-09 13:11:53,705] Trial 1 finished with value: 0.9774011299435028 and parameters: {'hidden_size': 137, 'learning_rate': 0.005965976500581366}. Best is trial 1 with value: 0.9774011299435028.\n",
      "[I 2023-12-09 13:11:57,964] Trial 2 finished with value: 0.8912429378531074 and parameters: {'hidden_size': 97, 'learning_rate': 3.33018300793684e-05}. Best is trial 1 with value: 0.9774011299435028.\n",
      "[I 2023-12-09 13:12:03,495] Trial 3 finished with value: 0.9096045197740112 and parameters: {'hidden_size': 128, 'learning_rate': 0.00013184474836690105}. Best is trial 1 with value: 0.9774011299435028.\n",
      "[I 2023-12-09 13:12:06,089] Trial 4 finished with value: 0.980225988700565 and parameters: {'hidden_size': 57, 'learning_rate': 0.003020475950659399}. Best is trial 4 with value: 0.980225988700565.\n",
      "[I 2023-12-09 13:12:12,794] Trial 5 finished with value: 0.9265536723163842 and parameters: {'hidden_size': 164, 'learning_rate': 0.00012731785154805662}. Best is trial 4 with value: 0.980225988700565.\n",
      "[I 2023-12-09 13:12:13,842] Trial 6 pruned. \n",
      "[I 2023-12-09 13:12:14,908] Trial 7 pruned. \n",
      "[I 2023-12-09 13:12:21,644] Trial 8 finished with value: 0.902542372881356 and parameters: {'hidden_size': 159, 'learning_rate': 6.327089068227431e-05}. Best is trial 4 with value: 0.980225988700565.\n",
      "[I 2023-12-09 13:12:22,114] Trial 9 pruned. \n",
      "[I 2023-12-09 13:12:24,043] Trial 10 pruned. \n",
      "[I 2023-12-09 13:12:24,462] Trial 11 pruned. \n",
      "[I 2023-12-09 13:12:26,171] Trial 12 pruned. \n",
      "[I 2023-12-09 13:12:26,862] Trial 13 pruned. \n",
      "[I 2023-12-09 13:12:27,519] Trial 14 pruned. \n",
      "[I 2023-12-09 13:12:29,010] Trial 15 pruned. \n",
      "[I 2023-12-09 13:12:29,613] Trial 16 pruned. \n",
      "[I 2023-12-09 13:12:31,218] Trial 17 pruned. \n",
      "[I 2023-12-09 13:12:33,186] Trial 18 pruned. \n",
      "[I 2023-12-09 13:12:34,072] Trial 19 pruned. \n"
     ]
    },
    {
     "name": "stdout",
     "output_type": "stream",
     "text": [
      "Best trial:\n",
      "Value: 0.980225988700565\n",
      "Params: \n",
      "hidden_size: 57\n",
      "learning_rate: 0.003020475950659399\n"
     ]
    }
   ],
   "source": [
    "import optuna\n",
    "\n",
    "def objective(trial):\n",
    "    # 定义超参数搜索空间\n",
    "    hidden_size = trial.suggest_int('hidden_size', 32, 256)\n",
    "    learning_rate = trial.suggest_loguniform('learning_rate', 1e-5, 1e-2)\n",
    "\n",
    "    # 初始化模型\n",
    "    model = SpamClassifier(input_size, hidden_size, output_size)\n",
    "    criterion = nn.BCELoss()\n",
    "    optimizer = optim.Adam(model.parameters(), lr=learning_rate)\n",
    "\n",
    "    # 训练模型\n",
    "    num_epochs = 5  # 可以根据实际情况调整\n",
    "    for epoch in range(num_epochs):\n",
    "        model.train()\n",
    "        total_loss = 0\n",
    "        for batch_X, batch_y in train_loader:\n",
    "            optimizer.zero_grad()\n",
    "            output = model(batch_X)\n",
    "            loss = criterion(output.squeeze(), batch_y)\n",
    "            loss.backward()\n",
    "            optimizer.step()\n",
    "            total_loss += loss.item()\n",
    "\n",
    "        # 在每个epoch结束后记录损失\n",
    "        trial.report(total_loss, epoch)\n",
    "\n",
    "        # 判断是否应该提前停止训练\n",
    "        if trial.should_prune():\n",
    "            raise optuna.exceptions.TrialPruned()\n",
    "\n",
    "    # 返回验证集上的准确度作为目标值\n",
    "    model.eval()\n",
    "    with torch.no_grad():\n",
    "        val_output = model(X_val_tensor)\n",
    "        val_loss = criterion(val_output.squeeze(), y_val_tensor)\n",
    "        val_preds = (val_output.squeeze() >= 0.5).float()\n",
    "        accuracy = torch.sum(val_preds == y_val_tensor).item() / len(y_val_tensor)\n",
    "\n",
    "    return accuracy\n",
    "\n",
    "# 创建Optuna试验对象\n",
    "study = optuna.create_study(direction='maximize')\n",
    "study.optimize(objective, n_trials=20)  # 设置n_trials为你希望尝试的不同超参数组合的次数\n",
    "\n",
    "# 打印最佳超参数和目标值\n",
    "print('Best trial:')\n",
    "trial = study.best_trial\n",
    "\n",
    "print('Value: {}'.format(trial.value))\n",
    "print('Params: ')\n",
    "for key, value in trial.params.items():\n",
    "    print('{}: {}'.format(key, value))\n"
   ],
   "metadata": {
    "collapsed": false,
    "ExecuteTime": {
     "end_time": "2023-12-09T05:12:34.079284100Z",
     "start_time": "2023-12-09T05:11:42.433457900Z"
    }
   }
  },
  {
   "cell_type": "markdown",
   "source": [
    "#### 3.2.4 输出"
   ],
   "metadata": {
    "collapsed": false
   }
  },
  {
   "cell_type": "code",
   "execution_count": 24,
   "outputs": [
    {
     "name": "stdout",
     "output_type": "stream",
     "text": [
      "Epoch 1/10, Loss: 0.4193185647328695\n",
      "Epoch 2/10, Loss: 0.08081443049013615\n",
      "Epoch 3/10, Loss: 0.027794528814653555\n",
      "Epoch 4/10, Loss: 0.010755651630461216\n",
      "Epoch 5/10, Loss: 0.004661946516070101\n",
      "Epoch 6/10, Loss: 0.0028451162649111615\n",
      "Epoch 7/10, Loss: 0.0019019572193630868\n",
      "Epoch 8/10, Loss: 0.0015047467559472555\n",
      "Epoch 9/10, Loss: 0.0010434836362643789\n",
      "Epoch 10/10, Loss: 0.0008183863486111578\n"
     ]
    }
   ],
   "source": [
    "# 使用最佳超参数重新训练模型\n",
    "best_hidden_size = study.best_params['hidden_size']\n",
    "best_learning_rate = study.best_params['learning_rate']\n",
    "\n",
    "# 初始化模型\n",
    "best_model = SpamClassifier(input_size, best_hidden_size, output_size)\n",
    "best_optimizer = optim.Adam(best_model.parameters(), lr=best_learning_rate)\n",
    "best_criterion = nn.BCELoss()\n",
    "\n",
    "# 训练模型\n",
    "num_epochs = 10  # 可以根据实际情况调整\n",
    "for epoch in range(num_epochs):\n",
    "    best_model.train()\n",
    "    total_loss = 0\n",
    "    for batch_X, batch_y in train_loader:\n",
    "        best_optimizer.zero_grad()\n",
    "        output = best_model(batch_X)\n",
    "        loss = best_criterion(output.squeeze(), batch_y)\n",
    "        loss.backward()\n",
    "        best_optimizer.step()\n",
    "        total_loss += loss.item()\n",
    "\n",
    "    print(f'Epoch {epoch + 1}/{num_epochs}, Loss: {total_loss / len(train_loader)}')"
   ],
   "metadata": {
    "collapsed": false,
    "ExecuteTime": {
     "end_time": "2023-12-09T05:12:39.171289100Z",
     "start_time": "2023-12-09T05:12:34.081239100Z"
    }
   }
  },
  {
   "cell_type": "code",
   "execution_count": 25,
   "outputs": [
    {
     "name": "stdout",
     "output_type": "stream",
     "text": [
      "                                             content label\n",
      "0  We are pleased to inform that your application...   ham\n",
      "1      What happen dear. Why you silent. I am tensed   ham\n",
      "2  I'll get there at 3, unless you guys want me t...   ham\n",
      "3           If you are not coughing then its nothing   ham\n",
      "4                     ÌÏ come lt 25 n pass to me lar   ham\n"
     ]
    }
   ],
   "source": [
    "# 需要预测的真实测试集\n",
    "real_x = df_te['content']\n",
    "real_x.shape\n",
    "\n",
    "# 在测试集上进行预测\n",
    "real_x_vec = vectorizer.transform(real_x)\n",
    "real_x_tensor = torch.tensor(real_x_vec.toarray(), dtype=torch.float32)\n",
    "\n",
    "best_model.eval()\n",
    "with torch.no_grad():\n",
    "    test_output = best_model(real_x_tensor)\n",
    "    test_preds = (test_output.squeeze() >= 0.5).float()\n",
    "\n",
    "# 将预测结果转换为 DataFrame\n",
    "df_result = pd.DataFrame({'content': real_x, 'prediction': test_preds.numpy()})\n",
    "\n",
    "# 如果 prediction 列的值为 1，则代表 spam；否则，为 ham\n",
    "df_result['label'] = df_result['prediction'].apply(lambda x: 'spam' if x == 1 else 'ham')\n",
    "df_result = df_result[['content', 'label']]\n",
    "\n",
    "# 查看预测结果\n",
    "print(df_result.head())\n",
    "\n",
    "with open('submission_lstm.txt', 'w', encoding='utf-8') as f:\n",
    "    for res in df_result['label']:\n",
    "        f.write(res + '\\n')\n",
    "    # f.write('\\n'.join(pred_list_lstm))"
   ],
   "metadata": {
    "collapsed": false,
    "ExecuteTime": {
     "end_time": "2023-12-09T05:12:39.303486300Z",
     "start_time": "2023-12-09T05:12:39.167380300Z"
    }
   }
  },
  {
   "cell_type": "markdown",
   "metadata": {},
   "source": [
    "### 3.2 Bert"
   ]
  },
  {
   "cell_type": "markdown",
   "metadata": {},
   "source": [
    "#### 3.2.1 数据集准备"
   ]
  },
  {
   "cell_type": "code",
   "execution_count": 4,
   "metadata": {
    "colab": {
     "base_uri": "https://localhost:8080/"
    },
    "executionInfo": {
     "elapsed": 1987,
     "status": "ok",
     "timestamp": 1700177915255,
     "user": {
      "displayName": "Jorge Limery",
      "userId": "02703735869977102912"
     },
     "user_tz": -480
    },
    "id": "kpzPWwmcV0am",
    "outputId": "67a512fd-30e9-4eef-9f8a-824818703ec0"
   },
   "outputs": [
    {
     "data": {
      "text/plain": [
       "<torch._C.Generator at 0x7db829aa6630>"
      ]
     },
     "execution_count": 4,
     "metadata": {},
     "output_type": "execute_result"
    }
   ],
   "source": [
    "import torch\n",
    "\n",
    "device = 'cuda' if torch.cuda.is_available() else 'cpu'     # Apple M 系列芯片可选 mps 加速\n",
    "model_path = 'distilbert-base-uncased'                      # 可以指定本地路径\n",
    "torch.manual_seed(3407)                                     # 随机种子"
   ]
  },
  {
   "cell_type": "code",
   "execution_count": 5,
   "metadata": {
    "executionInfo": {
     "elapsed": 3,
     "status": "ok",
     "timestamp": 1700177915256,
     "user": {
      "displayName": "Jorge Limery",
      "userId": "02703735869977102912"
     },
     "user_tz": -480
    },
    "id": "r9v1Sv1-WL8x"
   },
   "outputs": [],
   "source": [
    "# 再次声明检测编码函数\n",
    "def detect_encoding(file_path):\n",
    "    with open(file_path, 'rb') as f:\n",
    "        result = chardet.detect(f.read())\n",
    "    return result['encoding']"
   ]
  },
  {
   "cell_type": "code",
   "execution_count": 6,
   "metadata": {
    "executionInfo": {
     "elapsed": 2,
     "status": "ok",
     "timestamp": 1700177915256,
     "user": {
      "displayName": "Jorge Limery",
      "userId": "02703735869977102912"
     },
     "user_tz": -480
    },
    "id": "lgWsY76TWNZ1"
   },
   "outputs": [],
   "source": [
    "import chardet\n",
    "import pandas as pd\n",
    "from torch.utils.data import Dataset\n",
    "\n",
    "# 自定义数据集\n",
    "class SpamHamDataset(Dataset):\n",
    "    def __init__(self, file_path) -> None:\n",
    "        super().__init__()\n",
    "        self.data = pd.read_csv(file_path, encoding=detect_encoding(file_path))\n",
    "        self.data = self.data[['v1', 'v2']].rename(columns={'v1': 'label', 'v2': 'content'})\n",
    "\n",
    "    def __getitem__(self, index):\n",
    "        return self.data.iloc[index]['content'], self.data.iloc[index]['label']\n",
    "\n",
    "    def __len__(self):\n",
    "        return len(self.data)"
   ]
  },
  {
   "cell_type": "code",
   "execution_count": 7,
   "metadata": {
    "colab": {
     "base_uri": "https://localhost:8080/"
    },
    "executionInfo": {
     "elapsed": 2438,
     "status": "ok",
     "timestamp": 1700177917692,
     "user": {
      "displayName": "Jorge Limery",
      "userId": "02703735869977102912"
     },
     "user_tz": -480
    },
    "id": "P0gAra2bWbBw",
    "outputId": "f9ed36f3-0042-4f3b-9216-edc4999efbea"
   },
   "outputs": [
    {
     "name": "stdout",
     "output_type": "stream",
     "text": [
      "('Go until jurong point, crazy.. Available only in bugis n great world la e buffet... Cine there got amore wat...', 'ham')\n",
      "('Ok lar... Joking wif u oni...', 'ham')\n",
      "(\"Free entry in 2 a wkly comp to win FA Cup final tkts 21st May 2005. Text FA to 87121 to receive entry question(std txt rate)T&C's apply 08452810075over18's\", 'spam')\n",
      "('U dun say so early hor... U c already then say...', 'ham')\n",
      "(\"Nah I don't think he goes to usf, he lives around here though\", 'ham')\n"
     ]
    }
   ],
   "source": [
    "ds = SpamHamDataset('train.csv')\n",
    "\n",
    "# 查看\n",
    "for i in range(5):\n",
    "    print(ds[i])"
   ]
  },
  {
   "cell_type": "code",
   "execution_count": 8,
   "metadata": {
    "colab": {
     "base_uri": "https://localhost:8080/"
    },
    "executionInfo": {
     "elapsed": 10,
     "status": "ok",
     "timestamp": 1700177917692,
     "user": {
      "displayName": "Jorge Limery",
      "userId": "02703735869977102912"
     },
     "user_tz": -480
    },
    "id": "uCrowBrEWite",
    "outputId": "71dc50f3-43ae-406a-ade5-dffc88fa8c64"
   },
   "outputs": [
    {
     "data": {
      "text/plain": [
       "(2830, 707)"
      ]
     },
     "execution_count": 8,
     "metadata": {},
     "output_type": "execute_result"
    }
   ],
   "source": [
    "# 划分训练集，验证集\n",
    "# 8 : 2\n",
    "from torch.utils.data import random_split\n",
    "\n",
    "tr_ds, val_ds = random_split(ds, lengths=[0.8, 0.2])    # train_dataset, valid_dataset\n",
    "len(tr_ds), len(val_ds)"
   ]
  },
  {
   "cell_type": "markdown",
   "metadata": {},
   "source": [
    "#### 3.2.2 模型准备"
   ]
  },
  {
   "cell_type": "code",
   "execution_count": 14,
   "metadata": {
    "executionInfo": {
     "elapsed": 420,
     "status": "ok",
     "timestamp": 1700178019675,
     "user": {
      "displayName": "Jorge Limery",
      "userId": "02703735869977102912"
     },
     "user_tz": -480
    },
    "id": "jiFtA2GcW677"
   },
   "outputs": [],
   "source": [
    "import torch\n",
    "from transformers import AutoTokenizer\n",
    "\n",
    "# 分词器\n",
    "tokenizer = AutoTokenizer.from_pretrained(\n",
    "    model_path,\n",
    "    use_fast=True,  # 快速分词器\n",
    ")\n",
    "\n",
    "# Collator\n",
    "def collate_fn(batch):\n",
    "    contents, labels = [], []\n",
    "    for item in batch:\n",
    "        contents.append(item[0])\n",
    "        labels.append(1 if item[1] == 'spam' else 0)\n",
    "    # max_length 是前面的 0.99 分位点\n",
    "    inputs = tokenizer(contents, max_length=288, padding='max_length', truncation=True, return_tensors='pt')\n",
    "    inputs['labels'] = torch.tensor(labels)\n",
    "    return inputs"
   ]
  },
  {
   "cell_type": "code",
   "execution_count": 15,
   "metadata": {
    "executionInfo": {
     "elapsed": 2,
     "status": "ok",
     "timestamp": 1700178026629,
     "user": {
      "displayName": "Jorge Limery",
      "userId": "02703735869977102912"
     },
     "user_tz": -480
    },
    "id": "mF_F4qwBXME2"
   },
   "outputs": [],
   "source": [
    "# DataLoader\n",
    "from torch.utils.data import DataLoader\n",
    "\n",
    "tr_loader = DataLoader(tr_ds, batch_size=32, shuffle=True, collate_fn=collate_fn)\n",
    "val_loader = DataLoader(val_ds, batch_size=64, shuffle=False, collate_fn=collate_fn)"
   ]
  },
  {
   "cell_type": "code",
   "execution_count": 16,
   "metadata": {
    "colab": {
     "base_uri": "https://localhost:8080/"
    },
    "executionInfo": {
     "elapsed": 2,
     "status": "ok",
     "timestamp": 1700178027249,
     "user": {
      "displayName": "Jorge Limery",
      "userId": "02703735869977102912"
     },
     "user_tz": -480
    },
    "id": "5cdYeF07XPmx",
    "outputId": "6900b61d-6ba1-491b-c424-4c32bf7a0cd7"
   },
   "outputs": [
    {
     "data": {
      "text/plain": [
       "{'input_ids': tensor([[  101,  3449,  4135,  ...,     0,     0,     0],\n",
       "        [  101,  2074,  8025,  ...,     0,     0,     0],\n",
       "        [  101,  2053,  2053,  ...,     0,     0,     0],\n",
       "        ...,\n",
       "        [  101,  7929,  1012,  ...,     0,     0,     0],\n",
       "        [  101,  2027,  2207,  ...,     0,     0,     0],\n",
       "        [  101, 11948,  2072,  ...,     0,     0,     0]]), 'attention_mask': tensor([[1, 1, 1,  ..., 0, 0, 0],\n",
       "        [1, 1, 1,  ..., 0, 0, 0],\n",
       "        [1, 1, 1,  ..., 0, 0, 0],\n",
       "        ...,\n",
       "        [1, 1, 1,  ..., 0, 0, 0],\n",
       "        [1, 1, 1,  ..., 0, 0, 0],\n",
       "        [1, 1, 1,  ..., 0, 0, 0]]), 'labels': tensor([0, 0, 0, 1, 0, 0, 0, 0, 1, 0, 0, 0, 1, 0, 0, 0, 0, 0, 0, 1, 1, 0, 0, 0,\n",
       "        0, 0, 0, 0, 0, 0, 0, 0])}"
      ]
     },
     "execution_count": 16,
     "metadata": {},
     "output_type": "execute_result"
    }
   ],
   "source": [
    "# 查看一下\n",
    "next(enumerate(tr_loader))[1]"
   ]
  },
  {
   "cell_type": "code",
   "execution_count": 17,
   "metadata": {
    "executionInfo": {
     "elapsed": 2,
     "status": "ok",
     "timestamp": 1700178102106,
     "user": {
      "displayName": "Jorge Limery",
      "userId": "02703735869977102912"
     },
     "user_tz": -480
    },
    "id": "ApTk66YxXel3"
   },
   "outputs": [],
   "source": [
    "from tqdm import tqdm\n",
    "\n",
    "# 评估函数\n",
    "def evaluate(model, dataset, loader):\n",
    "    model.eval()\n",
    "    acc_num = 0\n",
    "\n",
    "    with torch.inference_mode():\n",
    "        for batch in tqdm(loader):\n",
    "            if device == 'cuda':\n",
    "                batch = {k: v.cuda() for k, v in batch.items()}\n",
    "            output = model(**batch)\n",
    "            pred = torch.argmax(output.logits, dim=-1)\n",
    "            acc_num += (pred.long() == batch['labels'].long()).float().sum()\n",
    "\n",
    "    return acc_num / len(dataset)"
   ]
  },
  {
   "cell_type": "code",
   "execution_count": 18,
   "metadata": {
    "executionInfo": {
     "elapsed": 2,
     "status": "ok",
     "timestamp": 1700178102106,
     "user": {
      "displayName": "Jorge Limery",
      "userId": "02703735869977102912"
     },
     "user_tz": -480
    },
    "id": "buWoLFPbXlOV"
   },
   "outputs": [],
   "source": [
    "from tqdm import tqdm\n",
    "from copy import deepcopy\n",
    "\n",
    "# 训练函数\n",
    "def train(model, optimizer, num_epochs=3, logging_steps=50):\n",
    "    global_step = 0\n",
    "    model.to(device)\n",
    "\n",
    "    for epoch in range(num_epochs):\n",
    "        print(f\"current epoch: {epoch + 1} {'=' * 80}\", flush=True)\n",
    "        model.train()\n",
    "\n",
    "        for batch in tqdm(tr_loader):\n",
    "            if device == 'cuda':\n",
    "                batch = {k: v.cuda() for k, v in batch.items()}\n",
    "            optimizer.zero_grad()\n",
    "            output = model(**batch)\n",
    "            output.loss.backward()\n",
    "            optimizer.step()\n",
    "\n",
    "            if (global_step + 1) % logging_steps == 0:\n",
    "                print(f'\\nsteps: {global_step}, loss: {output.loss.item()}', flush=True)\n",
    "            global_step += 1\n",
    "\n",
    "        # 每个 epoch 后都进行评估\n",
    "        acc = evaluate(model, val_ds, val_loader)\n",
    "        print(f'\\naccuracy: {acc}', flush=True)"
   ]
  },
  {
   "cell_type": "markdown",
   "metadata": {
    "id": "Spn1RGe9dQun"
   },
   "source": [
    "#### 3.2.3 未调参"
   ]
  },
  {
   "cell_type": "code",
   "execution_count": 33,
   "metadata": {
    "executionInfo": {
     "elapsed": 2,
     "status": "ok",
     "timestamp": 1700175883093,
     "user": {
      "displayName": "Jorge Limery",
      "userId": "02703735869977102912"
     },
     "user_tz": -480
    },
    "id": "TW5viP3EYJJ5"
   },
   "outputs": [],
   "source": [
    "num_epochs = 3\n",
    "logging_steps = 50\n",
    "lr = 2e-5"
   ]
  },
  {
   "cell_type": "code",
   "execution_count": 30,
   "metadata": {
    "executionInfo": {
     "elapsed": 2,
     "status": "ok",
     "timestamp": 1700175665974,
     "user": {
      "displayName": "Jorge Limery",
      "userId": "02703735869977102912"
     },
     "user_tz": -480
    },
    "id": "mJ0RHHT2XbB9"
   },
   "outputs": [],
   "source": [
    "import torch.optim as optim\n",
    "\n",
    "# 优化器选用 AdamW\n",
    "optimizer = optim.AdamW(model.parameters(), lr=lr)"
   ]
  },
  {
   "cell_type": "code",
   "execution_count": 12,
   "metadata": {
    "colab": {
     "base_uri": "https://localhost:8080/"
    },
    "executionInfo": {
     "elapsed": 1538,
     "status": "ok",
     "timestamp": 1700177930577,
     "user": {
      "displayName": "Jorge Limery",
      "userId": "02703735869977102912"
     },
     "user_tz": -480
    },
    "id": "BABhWTTgXSFO",
    "outputId": "59eba68e-d6d1-4bf9-debb-e7bd27d2f1bf"
   },
   "outputs": [
    {
     "name": "stderr",
     "output_type": "stream",
     "text": [
      "Some weights of DistilBertForSequenceClassification were not initialized from the model checkpoint at distilbert-base-uncased and are newly initialized: ['pre_classifier.bias', 'pre_classifier.weight', 'classifier.bias', 'classifier.weight']\n",
      "You should probably TRAIN this model on a down-stream task to be able to use it for predictions and inference.\n"
     ]
    }
   ],
   "source": [
    "from transformers import AutoModelForSequenceClassification\n",
    "\n",
    "# 加载 distil-bert-cased 模型\n",
    "model = AutoModelForSequenceClassification.from_pretrained(\n",
    "    model_path,\n",
    ")"
   ]
  },
  {
   "cell_type": "code",
   "execution_count": 34,
   "metadata": {
    "colab": {
     "base_uri": "https://localhost:8080/"
    },
    "executionInfo": {
     "elapsed": 126164,
     "status": "ok",
     "timestamp": 1700176011609,
     "user": {
      "displayName": "Jorge Limery",
      "userId": "02703735869977102912"
     },
     "user_tz": -480
    },
    "id": "xEumxOlxX3rE",
    "outputId": "9bdb3818-98f7-4d7f-9f1a-fd8371d290ec"
   },
   "outputs": [
    {
     "name": "stdout",
     "output_type": "stream",
     "text": [
      "current epoch: 1 ================================================================================\n"
     ]
    },
    {
     "name": "stderr",
     "output_type": "stream",
     "text": [
      " 55%|█████▌    | 49/89 [00:21<00:15,  2.60it/s]"
     ]
    },
    {
     "name": "stdout",
     "output_type": "stream",
     "text": [
      "steps: 49, loss: 0.04640495404601097\n"
     ]
    },
    {
     "name": "stderr",
     "output_type": "stream",
     "text": [
      "100%|██████████| 89/89 [00:36<00:00,  2.42it/s]\n",
      "100%|██████████| 12/12 [00:03<00:00,  3.46it/s]"
     ]
    },
    {
     "name": "stdout",
     "output_type": "stream",
     "text": [
      "accuracy: 0.9915134310722351\n",
      "current epoch: 2 ================================================================================\n"
     ]
    },
    {
     "name": "stderr",
     "output_type": "stream",
     "text": [
      "\n",
      " 11%|█         | 10/89 [00:03<00:30,  2.57it/s]"
     ]
    },
    {
     "name": "stdout",
     "output_type": "stream",
     "text": [
      "steps: 99, loss: 0.009304738603532314\n"
     ]
    },
    {
     "name": "stderr",
     "output_type": "stream",
     "text": [
      " 67%|██████▋   | 60/89 [00:23<00:11,  2.48it/s]"
     ]
    },
    {
     "name": "stdout",
     "output_type": "stream",
     "text": [
      "steps: 149, loss: 0.041676074266433716\n"
     ]
    },
    {
     "name": "stderr",
     "output_type": "stream",
     "text": [
      "100%|██████████| 89/89 [00:35<00:00,  2.51it/s]\n",
      "100%|██████████| 12/12 [00:03<00:00,  3.37it/s]"
     ]
    },
    {
     "name": "stdout",
     "output_type": "stream",
     "text": [
      "accuracy: 0.9929279088973999\n",
      "current epoch: 3 ================================================================================\n"
     ]
    },
    {
     "name": "stderr",
     "output_type": "stream",
     "text": [
      "\n",
      " 24%|██▎       | 21/89 [00:08<00:27,  2.45it/s]"
     ]
    },
    {
     "name": "stdout",
     "output_type": "stream",
     "text": [
      "steps: 199, loss: 0.14585527777671814\n"
     ]
    },
    {
     "name": "stderr",
     "output_type": "stream",
     "text": [
      " 80%|███████▉  | 71/89 [00:29<00:07,  2.38it/s]"
     ]
    },
    {
     "name": "stdout",
     "output_type": "stream",
     "text": [
      "steps: 249, loss: 0.0033556544221937656\n"
     ]
    },
    {
     "name": "stderr",
     "output_type": "stream",
     "text": [
      "100%|██████████| 89/89 [00:36<00:00,  2.43it/s]\n",
      "100%|██████████| 12/12 [00:03<00:00,  3.24it/s]"
     ]
    },
    {
     "name": "stdout",
     "output_type": "stream",
     "text": [
      "accuracy: 0.9929279088973999\n"
     ]
    },
    {
     "name": "stderr",
     "output_type": "stream",
     "text": [
      "\n"
     ]
    }
   ],
   "source": [
    "# 开始训练\n",
    "train(model, optimizer, num_epochs, logging_steps)"
   ]
  },
  {
   "cell_type": "markdown",
   "metadata": {
    "id": "JVinCXsVV9g8"
   },
   "source": [
    "#### 3.2.4 Optuna 自动调参"
   ]
  },
  {
   "cell_type": "code",
   "execution_count": 19,
   "metadata": {
    "executionInfo": {
     "elapsed": 1041,
     "status": "ok",
     "timestamp": 1700178118427,
     "user": {
      "displayName": "Jorge Limery",
      "userId": "02703735869977102912"
     },
     "user_tz": -480
    },
    "id": "UesDtaGXV_By"
   },
   "outputs": [],
   "source": [
    "# 定义目标函数，供 Optuna 调用\n",
    "import torch.optim as optim\n",
    "from transformers import AutoModelForSequenceClassification\n",
    "\n",
    "logging_steps = 100\n",
    "\n",
    "def objective(trial):\n",
    "    # 定义超参数搜索空间\n",
    "    lr = trial.suggest_float(\"lr\", 1e-5, 1e-2, log=True)\n",
    "    weight_decay = trial.suggest_float('weight_decay', 1e-3, 1e-1, log=True)\n",
    "    eps = trial.suggest_float('eps', 1e-9, 1e-6, log=True)\n",
    "    params = {\n",
    "        'lr': lr,\n",
    "        'weight_decay': weight_decay,\n",
    "        'eps': eps,\n",
    "    }\n",
    "\n",
    "    model = AutoModelForSequenceClassification.from_pretrained(\n",
    "        model_path,\n",
    "    )\n",
    "    optimizer = optim.AdamW(model.parameters(), **params)\n",
    "\n",
    "    global_step = 0\n",
    "    model.to(device)\n",
    "\n",
    "    model.train()\n",
    "    for batch in tqdm(tr_loader):\n",
    "        if device == 'cuda':\n",
    "            batch = {k: v.cuda() for k, v in batch.items()}\n",
    "        optimizer.zero_grad()\n",
    "        output = model(**batch)\n",
    "        output.loss.backward()\n",
    "        optimizer.step()\n",
    "\n",
    "        if (global_step + 1) % logging_steps == 0:\n",
    "            print(f'\\nsteps: {global_step}, loss: {output.loss.item()}', flush=True)\n",
    "        global_step += 1\n",
    "\n",
    "    # 进行评估\n",
    "    acc = evaluate(model, val_ds, val_loader)\n",
    "    print(f'\\naccuracy: {acc}', flush=True)\n",
    "\n",
    "    return acc  # Optuna 追求最大化目标"
   ]
  },
  {
   "cell_type": "code",
   "execution_count": 20,
   "metadata": {
    "colab": {
     "base_uri": "https://localhost:8080/"
    },
    "executionInfo": {
     "elapsed": 3856916,
     "status": "ok",
     "timestamp": 1700181979119,
     "user": {
      "displayName": "Jorge Limery",
      "userId": "02703735869977102912"
     },
     "user_tz": -480
    },
    "id": "l5c3TL_Wevnq",
    "outputId": "b18edff3-7e2c-42b5-f77b-004c7e047c01"
   },
   "outputs": [
    {
     "name": "stderr",
     "output_type": "stream",
     "text": [
      "[I 2023-11-16 23:42:01,852] A new study created in memory with name: no-name-b22aba35-a556-4091-ae4b-2581b7d27cb1\n",
      "Some weights of DistilBertForSequenceClassification were not initialized from the model checkpoint at distilbert-base-uncased and are newly initialized: ['pre_classifier.bias', 'pre_classifier.weight', 'classifier.bias', 'classifier.weight']\n",
      "You should probably TRAIN this model on a down-stream task to be able to use it for predictions and inference.\n",
      "100%|██████████| 89/89 [01:00<00:00,  1.48it/s]\n",
      "100%|██████████| 12/12 [00:05<00:00,  2.08it/s]"
     ]
    },
    {
     "name": "stdout",
     "output_type": "stream",
     "text": [
      "\n",
      "accuracy: 0.984441339969635\n"
     ]
    },
    {
     "name": "stderr",
     "output_type": "stream",
     "text": [
      "\n",
      "[I 2023-11-16 23:43:11,093] Trial 0 finished with value: 0.984441339969635 and parameters: {'lr': 0.00016611072831035025, 'weight_decay': 0.005146360255320083, 'eps': 2.8255957301958363e-08}. Best is trial 0 with value: 0.984441339969635.\n",
      "Some weights of DistilBertForSequenceClassification were not initialized from the model checkpoint at distilbert-base-uncased and are newly initialized: ['pre_classifier.bias', 'pre_classifier.weight', 'classifier.bias', 'classifier.weight']\n",
      "You should probably TRAIN this model on a down-stream task to be able to use it for predictions and inference.\n",
      "100%|██████████| 89/89 [01:06<00:00,  1.34it/s]\n",
      "100%|██████████| 12/12 [00:06<00:00,  1.76it/s]"
     ]
    },
    {
     "name": "stdout",
     "output_type": "stream",
     "text": [
      "\n",
      "accuracy: 0.984441339969635\n"
     ]
    },
    {
     "name": "stderr",
     "output_type": "stream",
     "text": [
      "\n",
      "[I 2023-11-16 23:44:25,560] Trial 1 finished with value: 0.984441339969635 and parameters: {'lr': 0.00013983639078775833, 'weight_decay': 0.004011445474443229, 'eps': 2.820395639014507e-07}. Best is trial 0 with value: 0.984441339969635.\n",
      "Some weights of DistilBertForSequenceClassification were not initialized from the model checkpoint at distilbert-base-uncased and are newly initialized: ['pre_classifier.bias', 'pre_classifier.weight', 'classifier.bias', 'classifier.weight']\n",
      "You should probably TRAIN this model on a down-stream task to be able to use it for predictions and inference.\n",
      "100%|██████████| 89/89 [01:09<00:00,  1.28it/s]\n",
      "100%|██████████| 12/12 [00:06<00:00,  1.80it/s]"
     ]
    },
    {
     "name": "stdout",
     "output_type": "stream",
     "text": [
      "\n",
      "accuracy: 0.9886845946311951\n"
     ]
    },
    {
     "name": "stderr",
     "output_type": "stream",
     "text": [
      "\n",
      "[I 2023-11-16 23:45:42,783] Trial 2 finished with value: 0.9886845946311951 and parameters: {'lr': 2.157384563749783e-05, 'weight_decay': 0.025599128679594668, 'eps': 1.5378295332367747e-09}. Best is trial 2 with value: 0.9886845946311951.\n",
      "Some weights of DistilBertForSequenceClassification were not initialized from the model checkpoint at distilbert-base-uncased and are newly initialized: ['pre_classifier.bias', 'pre_classifier.weight', 'classifier.bias', 'classifier.weight']\n",
      "You should probably TRAIN this model on a down-stream task to be able to use it for predictions and inference.\n",
      "100%|██████████| 89/89 [01:09<00:00,  1.28it/s]\n",
      "100%|██████████| 12/12 [00:06<00:00,  1.89it/s]"
     ]
    },
    {
     "name": "stdout",
     "output_type": "stream",
     "text": [
      "\n",
      "accuracy: 0.8656294345855713\n"
     ]
    },
    {
     "name": "stderr",
     "output_type": "stream",
     "text": [
      "\n",
      "[I 2023-11-16 23:46:59,695] Trial 3 finished with value: 0.8656294345855713 and parameters: {'lr': 0.00041837719915014055, 'weight_decay': 0.07679022794975604, 'eps': 2.203502601160044e-07}. Best is trial 2 with value: 0.9886845946311951.\n",
      "Some weights of DistilBertForSequenceClassification were not initialized from the model checkpoint at distilbert-base-uncased and are newly initialized: ['pre_classifier.bias', 'pre_classifier.weight', 'classifier.bias', 'classifier.weight']\n",
      "You should probably TRAIN this model on a down-stream task to be able to use it for predictions and inference.\n",
      "100%|██████████| 89/89 [01:09<00:00,  1.29it/s]\n",
      "100%|██████████| 12/12 [00:06<00:00,  1.92it/s]"
     ]
    },
    {
     "name": "stdout",
     "output_type": "stream",
     "text": [
      "\n",
      "accuracy: 0.8656294345855713\n"
     ]
    },
    {
     "name": "stderr",
     "output_type": "stream",
     "text": [
      "\n",
      "[I 2023-11-16 23:48:15,949] Trial 4 finished with value: 0.8656294345855713 and parameters: {'lr': 0.0014284155710492207, 'weight_decay': 0.09638230584206718, 'eps': 1.038494037027689e-09}. Best is trial 2 with value: 0.9886845946311951.\n",
      "Some weights of DistilBertForSequenceClassification were not initialized from the model checkpoint at distilbert-base-uncased and are newly initialized: ['pre_classifier.bias', 'pre_classifier.weight', 'classifier.bias', 'classifier.weight']\n",
      "You should probably TRAIN this model on a down-stream task to be able to use it for predictions and inference.\n",
      "100%|██████████| 89/89 [01:09<00:00,  1.29it/s]\n",
      "100%|██████████| 12/12 [00:06<00:00,  1.99it/s]"
     ]
    },
    {
     "name": "stdout",
     "output_type": "stream",
     "text": [
      "\n",
      "accuracy: 0.8656294345855713\n"
     ]
    },
    {
     "name": "stderr",
     "output_type": "stream",
     "text": [
      "\n",
      "[I 2023-11-16 23:49:31,954] Trial 5 finished with value: 0.8656294345855713 and parameters: {'lr': 0.005757305150872561, 'weight_decay': 0.08119435916711741, 'eps': 5.8421651033932514e-08}. Best is trial 2 with value: 0.9886845946311951.\n",
      "Some weights of DistilBertForSequenceClassification were not initialized from the model checkpoint at distilbert-base-uncased and are newly initialized: ['pre_classifier.bias', 'pre_classifier.weight', 'classifier.bias', 'classifier.weight']\n",
      "You should probably TRAIN this model on a down-stream task to be able to use it for predictions and inference.\n",
      "100%|██████████| 89/89 [01:09<00:00,  1.27it/s]\n",
      "100%|██████████| 12/12 [00:06<00:00,  1.80it/s]"
     ]
    },
    {
     "name": "stdout",
     "output_type": "stream",
     "text": [
      "\n",
      "accuracy: 0.9886845946311951\n"
     ]
    },
    {
     "name": "stderr",
     "output_type": "stream",
     "text": [
      "\n",
      "[I 2023-11-16 23:50:49,244] Trial 6 finished with value: 0.9886845946311951 and parameters: {'lr': 1.6707795368737402e-05, 'weight_decay': 0.011636356846059197, 'eps': 8.40671059297352e-07}. Best is trial 2 with value: 0.9886845946311951.\n",
      "Some weights of DistilBertForSequenceClassification were not initialized from the model checkpoint at distilbert-base-uncased and are newly initialized: ['pre_classifier.bias', 'pre_classifier.weight', 'classifier.bias', 'classifier.weight']\n",
      "You should probably TRAIN this model on a down-stream task to be able to use it for predictions and inference.\n",
      "100%|██████████| 89/89 [01:09<00:00,  1.28it/s]\n",
      "100%|██████████| 12/12 [00:06<00:00,  1.80it/s]"
     ]
    },
    {
     "name": "stdout",
     "output_type": "stream",
     "text": [
      "\n",
      "accuracy: 0.987270176410675\n"
     ]
    },
    {
     "name": "stderr",
     "output_type": "stream",
     "text": [
      "\n",
      "[I 2023-11-16 23:52:06,381] Trial 7 finished with value: 0.987270176410675 and parameters: {'lr': 7.287649970314632e-05, 'weight_decay': 0.002504036570589686, 'eps': 1.9684389039538736e-09}. Best is trial 2 with value: 0.9886845946311951.\n",
      "Some weights of DistilBertForSequenceClassification were not initialized from the model checkpoint at distilbert-base-uncased and are newly initialized: ['pre_classifier.bias', 'pre_classifier.weight', 'classifier.bias', 'classifier.weight']\n",
      "You should probably TRAIN this model on a down-stream task to be able to use it for predictions and inference.\n",
      "100%|██████████| 89/89 [01:09<00:00,  1.27it/s]\n",
      "100%|██████████| 12/12 [00:06<00:00,  1.79it/s]"
     ]
    },
    {
     "name": "stdout",
     "output_type": "stream",
     "text": [
      "\n",
      "accuracy: 0.9886845946311951\n"
     ]
    },
    {
     "name": "stderr",
     "output_type": "stream",
     "text": [
      "\n",
      "[I 2023-11-16 23:53:23,772] Trial 8 finished with value: 0.9886845946311951 and parameters: {'lr': 4.698519126754657e-05, 'weight_decay': 0.0019851300734651726, 'eps': 1.7190352884527314e-08}. Best is trial 2 with value: 0.9886845946311951.\n",
      "Some weights of DistilBertForSequenceClassification were not initialized from the model checkpoint at distilbert-base-uncased and are newly initialized: ['pre_classifier.bias', 'pre_classifier.weight', 'classifier.bias', 'classifier.weight']\n",
      "You should probably TRAIN this model on a down-stream task to be able to use it for predictions and inference.\n",
      "100%|██████████| 89/89 [01:09<00:00,  1.27it/s]\n",
      "100%|██████████| 12/12 [00:06<00:00,  1.80it/s]"
     ]
    },
    {
     "name": "stdout",
     "output_type": "stream",
     "text": [
      "\n",
      "accuracy: 0.984441339969635\n"
     ]
    },
    {
     "name": "stderr",
     "output_type": "stream",
     "text": [
      "\n",
      "[I 2023-11-16 23:54:41,294] Trial 9 finished with value: 0.984441339969635 and parameters: {'lr': 0.0001190169191108775, 'weight_decay': 0.0014087903774218037, 'eps': 2.2527909747816582e-08}. Best is trial 2 with value: 0.9886845946311951.\n",
      "Some weights of DistilBertForSequenceClassification were not initialized from the model checkpoint at distilbert-base-uncased and are newly initialized: ['pre_classifier.bias', 'pre_classifier.weight', 'classifier.bias', 'classifier.weight']\n",
      "You should probably TRAIN this model on a down-stream task to be able to use it for predictions and inference.\n",
      "100%|██████████| 89/89 [01:09<00:00,  1.27it/s]\n",
      "100%|██████████| 12/12 [00:06<00:00,  1.80it/s]"
     ]
    },
    {
     "name": "stdout",
     "output_type": "stream",
     "text": [
      "\n",
      "accuracy: 0.9886845946311951\n"
     ]
    },
    {
     "name": "stderr",
     "output_type": "stream",
     "text": [
      "\n",
      "[I 2023-11-16 23:55:58,572] Trial 10 finished with value: 0.9886845946311951 and parameters: {'lr': 1.4972070357100176e-05, 'weight_decay': 0.021426248622943678, 'eps': 3.466744971101538e-09}. Best is trial 2 with value: 0.9886845946311951.\n",
      "Some weights of DistilBertForSequenceClassification were not initialized from the model checkpoint at distilbert-base-uncased and are newly initialized: ['pre_classifier.bias', 'pre_classifier.weight', 'classifier.bias', 'classifier.weight']\n",
      "You should probably TRAIN this model on a down-stream task to be able to use it for predictions and inference.\n",
      "100%|██████████| 89/89 [01:09<00:00,  1.27it/s]\n",
      "100%|██████████| 12/12 [00:06<00:00,  1.79it/s]"
     ]
    },
    {
     "name": "stdout",
     "output_type": "stream",
     "text": [
      "\n",
      "accuracy: 0.9886845946311951\n"
     ]
    },
    {
     "name": "stderr",
     "output_type": "stream",
     "text": [
      "\n",
      "[I 2023-11-16 23:57:15,932] Trial 11 finished with value: 0.9886845946311951 and parameters: {'lr': 1.069761928337441e-05, 'weight_decay': 0.012939833128570114, 'eps': 6.069951717165009e-07}. Best is trial 2 with value: 0.9886845946311951.\n",
      "Some weights of DistilBertForSequenceClassification were not initialized from the model checkpoint at distilbert-base-uncased and are newly initialized: ['pre_classifier.bias', 'pre_classifier.weight', 'classifier.bias', 'classifier.weight']\n",
      "You should probably TRAIN this model on a down-stream task to be able to use it for predictions and inference.\n",
      "100%|██████████| 89/89 [01:09<00:00,  1.27it/s]\n",
      "100%|██████████| 12/12 [00:06<00:00,  1.79it/s]"
     ]
    },
    {
     "name": "stdout",
     "output_type": "stream",
     "text": [
      "\n",
      "accuracy: 0.9929279088973999\n"
     ]
    },
    {
     "name": "stderr",
     "output_type": "stream",
     "text": [
      "\n",
      "[I 2023-11-16 23:58:33,239] Trial 12 finished with value: 0.9929279088973999 and parameters: {'lr': 3.085411381943491e-05, 'weight_decay': 0.022923593042419334, 'eps': 8.254221467789509e-07}. Best is trial 12 with value: 0.9929279088973999.\n",
      "Some weights of DistilBertForSequenceClassification were not initialized from the model checkpoint at distilbert-base-uncased and are newly initialized: ['pre_classifier.bias', 'pre_classifier.weight', 'classifier.bias', 'classifier.weight']\n",
      "You should probably TRAIN this model on a down-stream task to be able to use it for predictions and inference.\n",
      "100%|██████████| 89/89 [01:09<00:00,  1.28it/s]\n",
      "100%|██████████| 12/12 [00:06<00:00,  1.79it/s]"
     ]
    },
    {
     "name": "stdout",
     "output_type": "stream",
     "text": [
      "\n",
      "accuracy: 0.9900990128517151\n"
     ]
    },
    {
     "name": "stderr",
     "output_type": "stream",
     "text": [
      "\n",
      "[I 2023-11-16 23:59:50,489] Trial 13 finished with value: 0.9900990128517151 and parameters: {'lr': 3.9397932126931857e-05, 'weight_decay': 0.03037805931261226, 'eps': 6.030630171116984e-09}. Best is trial 12 with value: 0.9929279088973999.\n",
      "Some weights of DistilBertForSequenceClassification were not initialized from the model checkpoint at distilbert-base-uncased and are newly initialized: ['pre_classifier.bias', 'pre_classifier.weight', 'classifier.bias', 'classifier.weight']\n",
      "You should probably TRAIN this model on a down-stream task to be able to use it for predictions and inference.\n",
      "100%|██████████| 89/89 [01:09<00:00,  1.27it/s]\n",
      "100%|██████████| 12/12 [00:06<00:00,  1.80it/s]"
     ]
    },
    {
     "name": "stdout",
     "output_type": "stream",
     "text": [
      "\n",
      "accuracy: 0.985855758190155\n"
     ]
    },
    {
     "name": "stderr",
     "output_type": "stream",
     "text": [
      "\n",
      "[I 2023-11-17 00:01:07,836] Trial 14 finished with value: 0.985855758190155 and parameters: {'lr': 3.687597971872973e-05, 'weight_decay': 0.03602277965900572, 'eps': 7.035292257605217e-09}. Best is trial 12 with value: 0.9929279088973999.\n",
      "Some weights of DistilBertForSequenceClassification were not initialized from the model checkpoint at distilbert-base-uncased and are newly initialized: ['pre_classifier.bias', 'pre_classifier.weight', 'classifier.bias', 'classifier.weight']\n",
      "You should probably TRAIN this model on a down-stream task to be able to use it for predictions and inference.\n",
      "100%|██████████| 89/89 [01:09<00:00,  1.27it/s]\n",
      "100%|██████████| 12/12 [00:06<00:00,  1.79it/s]"
     ]
    },
    {
     "name": "stdout",
     "output_type": "stream",
     "text": [
      "\n",
      "accuracy: 0.9886845946311951\n"
     ]
    },
    {
     "name": "stderr",
     "output_type": "stream",
     "text": [
      "\n",
      "[I 2023-11-17 00:02:25,256] Trial 15 finished with value: 0.9886845946311951 and parameters: {'lr': 3.8817872936688935e-05, 'weight_decay': 0.03725650757622905, 'eps': 8.13023472889859e-08}. Best is trial 12 with value: 0.9929279088973999.\n",
      "Some weights of DistilBertForSequenceClassification were not initialized from the model checkpoint at distilbert-base-uncased and are newly initialized: ['pre_classifier.bias', 'pre_classifier.weight', 'classifier.bias', 'classifier.weight']\n",
      "You should probably TRAIN this model on a down-stream task to be able to use it for predictions and inference.\n",
      "100%|██████████| 89/89 [01:09<00:00,  1.27it/s]\n",
      "100%|██████████| 12/12 [00:06<00:00,  1.84it/s]"
     ]
    },
    {
     "name": "stdout",
     "output_type": "stream",
     "text": [
      "\n",
      "accuracy: 0.9816124439239502\n"
     ]
    },
    {
     "name": "stderr",
     "output_type": "stream",
     "text": [
      "\n",
      "[I 2023-11-17 00:03:42,396] Trial 16 finished with value: 0.9816124439239502 and parameters: {'lr': 0.00032673942897722423, 'weight_decay': 0.006958465399061996, 'eps': 6.961054412334849e-09}. Best is trial 12 with value: 0.9929279088973999.\n",
      "Some weights of DistilBertForSequenceClassification were not initialized from the model checkpoint at distilbert-base-uncased and are newly initialized: ['pre_classifier.bias', 'pre_classifier.weight', 'classifier.bias', 'classifier.weight']\n",
      "You should probably TRAIN this model on a down-stream task to be able to use it for predictions and inference.\n",
      "100%|██████████| 89/89 [01:09<00:00,  1.28it/s]\n",
      "100%|██████████| 12/12 [00:06<00:00,  1.80it/s]"
     ]
    },
    {
     "name": "stdout",
     "output_type": "stream",
     "text": [
      "\n",
      "accuracy: 0.9915134310722351\n"
     ]
    },
    {
     "name": "stderr",
     "output_type": "stream",
     "text": [
      "\n",
      "[I 2023-11-17 00:04:59,559] Trial 17 finished with value: 0.9915134310722351 and parameters: {'lr': 3.182563622164694e-05, 'weight_decay': 0.01612614193130695, 'eps': 1.1526884969711229e-07}. Best is trial 12 with value: 0.9929279088973999.\n",
      "Some weights of DistilBertForSequenceClassification were not initialized from the model checkpoint at distilbert-base-uncased and are newly initialized: ['pre_classifier.bias', 'pre_classifier.weight', 'classifier.bias', 'classifier.weight']\n",
      "You should probably TRAIN this model on a down-stream task to be able to use it for predictions and inference.\n",
      "100%|██████████| 89/89 [01:09<00:00,  1.27it/s]\n",
      "100%|██████████| 12/12 [00:06<00:00,  1.80it/s]"
     ]
    },
    {
     "name": "stdout",
     "output_type": "stream",
     "text": [
      "\n",
      "accuracy: 0.9886845946311951\n"
     ]
    },
    {
     "name": "stderr",
     "output_type": "stream",
     "text": [
      "\n",
      "[I 2023-11-17 00:06:16,838] Trial 18 finished with value: 0.9886845946311951 and parameters: {'lr': 7.902913706568533e-05, 'weight_decay': 0.017685467364202748, 'eps': 9.758031384871458e-07}. Best is trial 12 with value: 0.9929279088973999.\n",
      "Some weights of DistilBertForSequenceClassification were not initialized from the model checkpoint at distilbert-base-uncased and are newly initialized: ['pre_classifier.bias', 'pre_classifier.weight', 'classifier.bias', 'classifier.weight']\n",
      "You should probably TRAIN this model on a down-stream task to be able to use it for predictions and inference.\n",
      "100%|██████████| 89/89 [01:09<00:00,  1.27it/s]\n",
      "100%|██████████| 12/12 [00:06<00:00,  1.79it/s]"
     ]
    },
    {
     "name": "stdout",
     "output_type": "stream",
     "text": [
      "\n",
      "accuracy: 0.9886845946311951\n"
     ]
    },
    {
     "name": "stderr",
     "output_type": "stream",
     "text": [
      "\n",
      "[I 2023-11-17 00:07:34,431] Trial 19 finished with value: 0.9886845946311951 and parameters: {'lr': 2.0710747826541462e-05, 'weight_decay': 0.008459531787750748, 'eps': 1.618914790574783e-07}. Best is trial 12 with value: 0.9929279088973999.\n",
      "Some weights of DistilBertForSequenceClassification were not initialized from the model checkpoint at distilbert-base-uncased and are newly initialized: ['pre_classifier.bias', 'pre_classifier.weight', 'classifier.bias', 'classifier.weight']\n",
      "You should probably TRAIN this model on a down-stream task to be able to use it for predictions and inference.\n",
      "100%|██████████| 89/89 [01:10<00:00,  1.27it/s]\n",
      "100%|██████████| 12/12 [00:06<00:00,  1.79it/s]"
     ]
    },
    {
     "name": "stdout",
     "output_type": "stream",
     "text": [
      "\n",
      "accuracy: 0.9900990128517151\n"
     ]
    },
    {
     "name": "stderr",
     "output_type": "stream",
     "text": [
      "\n",
      "[I 2023-11-17 00:08:52,095] Trial 20 finished with value: 0.9900990128517151 and parameters: {'lr': 1.009698212200476e-05, 'weight_decay': 0.013560761279730134, 'eps': 3.7822555260459256e-07}. Best is trial 12 with value: 0.9929279088973999.\n",
      "Some weights of DistilBertForSequenceClassification were not initialized from the model checkpoint at distilbert-base-uncased and are newly initialized: ['pre_classifier.bias', 'pre_classifier.weight', 'classifier.bias', 'classifier.weight']\n",
      "You should probably TRAIN this model on a down-stream task to be able to use it for predictions and inference.\n",
      "100%|██████████| 89/89 [01:10<00:00,  1.27it/s]\n",
      "100%|██████████| 12/12 [00:06<00:00,  1.80it/s]"
     ]
    },
    {
     "name": "stdout",
     "output_type": "stream",
     "text": [
      "\n",
      "accuracy: 0.9915134310722351\n"
     ]
    },
    {
     "name": "stderr",
     "output_type": "stream",
     "text": [
      "\n",
      "[I 2023-11-17 00:10:09,559] Trial 21 finished with value: 0.9915134310722351 and parameters: {'lr': 3.208547968527233e-05, 'weight_decay': 0.033492108404883085, 'eps': 7.258038025003091e-08}. Best is trial 12 with value: 0.9929279088973999.\n",
      "Some weights of DistilBertForSequenceClassification were not initialized from the model checkpoint at distilbert-base-uncased and are newly initialized: ['pre_classifier.bias', 'pre_classifier.weight', 'classifier.bias', 'classifier.weight']\n",
      "You should probably TRAIN this model on a down-stream task to be able to use it for predictions and inference.\n",
      "100%|██████████| 89/89 [01:09<00:00,  1.27it/s]\n",
      "100%|██████████| 12/12 [00:06<00:00,  1.80it/s]"
     ]
    },
    {
     "name": "stdout",
     "output_type": "stream",
     "text": [
      "\n",
      "accuracy: 0.9787836074829102\n"
     ]
    },
    {
     "name": "stderr",
     "output_type": "stream",
     "text": [
      "\n",
      "[I 2023-11-17 00:11:26,916] Trial 22 finished with value: 0.9787836074829102 and parameters: {'lr': 2.9313648796329506e-05, 'weight_decay': 0.049592510299943805, 'eps': 8.349902684229545e-08}. Best is trial 12 with value: 0.9929279088973999.\n",
      "Some weights of DistilBertForSequenceClassification were not initialized from the model checkpoint at distilbert-base-uncased and are newly initialized: ['pre_classifier.bias', 'pre_classifier.weight', 'classifier.bias', 'classifier.weight']\n",
      "You should probably TRAIN this model on a down-stream task to be able to use it for predictions and inference.\n",
      "100%|██████████| 89/89 [01:09<00:00,  1.27it/s]\n",
      "100%|██████████| 12/12 [00:06<00:00,  1.80it/s]"
     ]
    },
    {
     "name": "stdout",
     "output_type": "stream",
     "text": [
      "\n",
      "accuracy: 0.9915134310722351\n"
     ]
    },
    {
     "name": "stderr",
     "output_type": "stream",
     "text": [
      "\n",
      "[I 2023-11-17 00:12:44,260] Trial 23 finished with value: 0.9915134310722351 and parameters: {'lr': 6.211497892557287e-05, 'weight_decay': 0.019145396278973315, 'eps': 1.247198668459966e-07}. Best is trial 12 with value: 0.9929279088973999.\n",
      "Some weights of DistilBertForSequenceClassification were not initialized from the model checkpoint at distilbert-base-uncased and are newly initialized: ['pre_classifier.bias', 'pre_classifier.weight', 'classifier.bias', 'classifier.weight']\n",
      "You should probably TRAIN this model on a down-stream task to be able to use it for predictions and inference.\n",
      "100%|██████████| 89/89 [01:10<00:00,  1.27it/s]\n",
      "100%|██████████| 12/12 [00:06<00:00,  1.80it/s]"
     ]
    },
    {
     "name": "stdout",
     "output_type": "stream",
     "text": [
      "\n",
      "accuracy: 0.9915134310722351\n"
     ]
    },
    {
     "name": "stderr",
     "output_type": "stream",
     "text": [
      "\n",
      "[I 2023-11-17 00:14:01,745] Trial 24 finished with value: 0.9915134310722351 and parameters: {'lr': 2.398069666149199e-05, 'weight_decay': 0.045139274204989, 'eps': 3.785923928993646e-07}. Best is trial 12 with value: 0.9929279088973999.\n",
      "Some weights of DistilBertForSequenceClassification were not initialized from the model checkpoint at distilbert-base-uncased and are newly initialized: ['pre_classifier.bias', 'pre_classifier.weight', 'classifier.bias', 'classifier.weight']\n",
      "You should probably TRAIN this model on a down-stream task to be able to use it for predictions and inference.\n",
      "100%|██████████| 89/89 [01:09<00:00,  1.27it/s]\n",
      "100%|██████████| 12/12 [00:06<00:00,  1.80it/s]"
     ]
    },
    {
     "name": "stdout",
     "output_type": "stream",
     "text": [
      "\n",
      "accuracy: 0.9886845946311951\n"
     ]
    },
    {
     "name": "stderr",
     "output_type": "stream",
     "text": [
      "\n",
      "[I 2023-11-17 00:15:19,141] Trial 25 finished with value: 0.9886845946311951 and parameters: {'lr': 6.928384907260053e-05, 'weight_decay': 0.016835872682871816, 'eps': 1.5884611366136e-07}. Best is trial 12 with value: 0.9929279088973999.\n",
      "Some weights of DistilBertForSequenceClassification were not initialized from the model checkpoint at distilbert-base-uncased and are newly initialized: ['pre_classifier.bias', 'pre_classifier.weight', 'classifier.bias', 'classifier.weight']\n",
      "You should probably TRAIN this model on a down-stream task to be able to use it for predictions and inference.\n",
      "100%|██████████| 89/89 [01:09<00:00,  1.28it/s]\n",
      "100%|██████████| 12/12 [00:06<00:00,  1.80it/s]"
     ]
    },
    {
     "name": "stdout",
     "output_type": "stream",
     "text": [
      "\n",
      "accuracy: 0.987270176410675\n"
     ]
    },
    {
     "name": "stderr",
     "output_type": "stream",
     "text": [
      "\n",
      "[I 2023-11-17 00:16:36,312] Trial 26 finished with value: 0.987270176410675 and parameters: {'lr': 2.801730536629931e-05, 'weight_decay': 0.0267930794067874, 'eps': 4.313066825824891e-08}. Best is trial 12 with value: 0.9929279088973999.\n",
      "Some weights of DistilBertForSequenceClassification were not initialized from the model checkpoint at distilbert-base-uncased and are newly initialized: ['pre_classifier.bias', 'pre_classifier.weight', 'classifier.bias', 'classifier.weight']\n",
      "You should probably TRAIN this model on a down-stream task to be able to use it for predictions and inference.\n",
      "100%|██████████| 89/89 [01:09<00:00,  1.27it/s]\n",
      "100%|██████████| 12/12 [00:06<00:00,  1.80it/s]"
     ]
    },
    {
     "name": "stdout",
     "output_type": "stream",
     "text": [
      "\n",
      "accuracy: 0.9886845946311951\n"
     ]
    },
    {
     "name": "stderr",
     "output_type": "stream",
     "text": [
      "\n",
      "[I 2023-11-17 00:17:53,697] Trial 27 finished with value: 0.9886845946311951 and parameters: {'lr': 1.668528921394491e-05, 'weight_decay': 0.055420374188570126, 'eps': 5.113611088506606e-07}. Best is trial 12 with value: 0.9929279088973999.\n",
      "Some weights of DistilBertForSequenceClassification were not initialized from the model checkpoint at distilbert-base-uncased and are newly initialized: ['pre_classifier.bias', 'pre_classifier.weight', 'classifier.bias', 'classifier.weight']\n",
      "You should probably TRAIN this model on a down-stream task to be able to use it for predictions and inference.\n",
      "100%|██████████| 89/89 [01:09<00:00,  1.28it/s]\n",
      "100%|██████████| 12/12 [00:06<00:00,  1.82it/s]"
     ]
    },
    {
     "name": "stdout",
     "output_type": "stream",
     "text": [
      "\n",
      "accuracy: 0.9702970385551453\n"
     ]
    },
    {
     "name": "stderr",
     "output_type": "stream",
     "text": [
      "\n",
      "[I 2023-11-17 00:19:10,714] Trial 28 finished with value: 0.9702970385551453 and parameters: {'lr': 0.00021295795686374528, 'weight_decay': 0.010403699776741167, 'eps': 2.448773248435271e-07}. Best is trial 12 with value: 0.9929279088973999.\n",
      "Some weights of DistilBertForSequenceClassification were not initialized from the model checkpoint at distilbert-base-uncased and are newly initialized: ['pre_classifier.bias', 'pre_classifier.weight', 'classifier.bias', 'classifier.weight']\n",
      "You should probably TRAIN this model on a down-stream task to be able to use it for predictions and inference.\n",
      "100%|██████████| 89/89 [01:09<00:00,  1.28it/s]\n",
      "100%|██████████| 12/12 [00:06<00:00,  1.80it/s]"
     ]
    },
    {
     "name": "stdout",
     "output_type": "stream",
     "text": [
      "\n",
      "accuracy: 0.987270176410675\n"
     ]
    },
    {
     "name": "stderr",
     "output_type": "stream",
     "text": [
      "\n",
      "[I 2023-11-17 00:20:27,935] Trial 29 finished with value: 0.987270176410675 and parameters: {'lr': 0.00011024059254273973, 'weight_decay': 0.024761899098798067, 'eps': 3.586156661588314e-08}. Best is trial 12 with value: 0.9929279088973999.\n",
      "Some weights of DistilBertForSequenceClassification were not initialized from the model checkpoint at distilbert-base-uncased and are newly initialized: ['pre_classifier.bias', 'pre_classifier.weight', 'classifier.bias', 'classifier.weight']\n",
      "You should probably TRAIN this model on a down-stream task to be able to use it for predictions and inference.\n",
      "100%|██████████| 89/89 [01:09<00:00,  1.27it/s]\n",
      "100%|██████████| 12/12 [00:06<00:00,  1.79it/s]"
     ]
    },
    {
     "name": "stdout",
     "output_type": "stream",
     "text": [
      "\n",
      "accuracy: 0.9915134310722351\n"
     ]
    },
    {
     "name": "stderr",
     "output_type": "stream",
     "text": [
      "\n",
      "[I 2023-11-17 00:21:45,258] Trial 30 finished with value: 0.9915134310722351 and parameters: {'lr': 4.7246592545428835e-05, 'weight_decay': 0.015276356145107134, 'eps': 1.0614204458750834e-07}. Best is trial 12 with value: 0.9929279088973999.\n",
      "Some weights of DistilBertForSequenceClassification were not initialized from the model checkpoint at distilbert-base-uncased and are newly initialized: ['pre_classifier.bias', 'pre_classifier.weight', 'classifier.bias', 'classifier.weight']\n",
      "You should probably TRAIN this model on a down-stream task to be able to use it for predictions and inference.\n",
      "100%|██████████| 89/89 [01:09<00:00,  1.27it/s]\n",
      "100%|██████████| 12/12 [00:06<00:00,  1.80it/s]"
     ]
    },
    {
     "name": "stdout",
     "output_type": "stream",
     "text": [
      "\n",
      "accuracy: 0.9674682021141052\n"
     ]
    },
    {
     "name": "stderr",
     "output_type": "stream",
     "text": [
      "\n",
      "[I 2023-11-17 00:23:02,961] Trial 31 finished with value: 0.9674682021141052 and parameters: {'lr': 5.0589828877234616e-05, 'weight_decay': 0.018883258346354393, 'eps': 1.4058063331568052e-07}. Best is trial 12 with value: 0.9929279088973999.\n",
      "Some weights of DistilBertForSequenceClassification were not initialized from the model checkpoint at distilbert-base-uncased and are newly initialized: ['pre_classifier.bias', 'pre_classifier.weight', 'classifier.bias', 'classifier.weight']\n",
      "You should probably TRAIN this model on a down-stream task to be able to use it for predictions and inference.\n",
      "100%|██████████| 89/89 [01:09<00:00,  1.27it/s]\n",
      "100%|██████████| 12/12 [00:06<00:00,  1.80it/s]"
     ]
    },
    {
     "name": "stdout",
     "output_type": "stream",
     "text": [
      "\n",
      "accuracy: 0.9773691892623901\n"
     ]
    },
    {
     "name": "stderr",
     "output_type": "stream",
     "text": [
      "\n",
      "[I 2023-11-17 00:24:20,776] Trial 32 finished with value: 0.9773691892623901 and parameters: {'lr': 6.499437535053576e-05, 'weight_decay': 0.018648298902757064, 'eps': 7.203428684138624e-08}. Best is trial 12 with value: 0.9929279088973999.\n",
      "Some weights of DistilBertForSequenceClassification were not initialized from the model checkpoint at distilbert-base-uncased and are newly initialized: ['pre_classifier.bias', 'pre_classifier.weight', 'classifier.bias', 'classifier.weight']\n",
      "You should probably TRAIN this model on a down-stream task to be able to use it for predictions and inference.\n",
      "100%|██████████| 89/89 [01:09<00:00,  1.27it/s]\n",
      "100%|██████████| 12/12 [00:06<00:00,  1.79it/s]"
     ]
    },
    {
     "name": "stdout",
     "output_type": "stream",
     "text": [
      "\n",
      "accuracy: 0.9816124439239502\n"
     ]
    },
    {
     "name": "stderr",
     "output_type": "stream",
     "text": [
      "\n",
      "[I 2023-11-17 00:25:38,605] Trial 33 finished with value: 0.9816124439239502 and parameters: {'lr': 2.4112907722056204e-05, 'weight_decay': 0.03261024819316187, 'eps': 2.7051746606239905e-07}. Best is trial 12 with value: 0.9929279088973999.\n",
      "Some weights of DistilBertForSequenceClassification were not initialized from the model checkpoint at distilbert-base-uncased and are newly initialized: ['pre_classifier.bias', 'pre_classifier.weight', 'classifier.bias', 'classifier.weight']\n",
      "You should probably TRAIN this model on a down-stream task to be able to use it for predictions and inference.\n",
      "100%|██████████| 89/89 [01:09<00:00,  1.27it/s]\n",
      "100%|██████████| 12/12 [00:06<00:00,  1.83it/s]"
     ]
    },
    {
     "name": "stdout",
     "output_type": "stream",
     "text": [
      "\n",
      "accuracy: 0.9745403528213501\n"
     ]
    },
    {
     "name": "stderr",
     "output_type": "stream",
     "text": [
      "\n",
      "[I 2023-11-17 00:26:56,346] Trial 34 finished with value: 0.9745403528213501 and parameters: {'lr': 0.00016708154487661797, 'weight_decay': 0.023312858061531362, 'eps': 1.2075003089274636e-07}. Best is trial 12 with value: 0.9929279088973999.\n",
      "Some weights of DistilBertForSequenceClassification were not initialized from the model checkpoint at distilbert-base-uncased and are newly initialized: ['pre_classifier.bias', 'pre_classifier.weight', 'classifier.bias', 'classifier.weight']\n",
      "You should probably TRAIN this model on a down-stream task to be able to use it for predictions and inference.\n",
      "100%|██████████| 89/89 [01:09<00:00,  1.27it/s]\n",
      "100%|██████████| 12/12 [00:06<00:00,  1.79it/s]"
     ]
    },
    {
     "name": "stdout",
     "output_type": "stream",
     "text": [
      "\n",
      "accuracy: 0.984441339969635\n"
     ]
    },
    {
     "name": "stderr",
     "output_type": "stream",
     "text": [
      "\n",
      "[I 2023-11-17 00:28:14,117] Trial 35 finished with value: 0.984441339969635 and parameters: {'lr': 9.70828851035395e-05, 'weight_decay': 0.007120974817277151, 'eps': 1.8253647376740082e-07}. Best is trial 12 with value: 0.9929279088973999.\n",
      "Some weights of DistilBertForSequenceClassification were not initialized from the model checkpoint at distilbert-base-uncased and are newly initialized: ['pre_classifier.bias', 'pre_classifier.weight', 'classifier.bias', 'classifier.weight']\n",
      "You should probably TRAIN this model on a down-stream task to be able to use it for predictions and inference.\n",
      "100%|██████████| 89/89 [01:09<00:00,  1.27it/s]\n",
      "100%|██████████| 12/12 [00:06<00:00,  1.79it/s]"
     ]
    },
    {
     "name": "stdout",
     "output_type": "stream",
     "text": [
      "\n",
      "accuracy: 0.985855758190155\n"
     ]
    },
    {
     "name": "stderr",
     "output_type": "stream",
     "text": [
      "\n",
      "[I 2023-11-17 00:29:31,942] Trial 36 finished with value: 0.985855758190155 and parameters: {'lr': 3.165379477860959e-05, 'weight_decay': 0.026090195096650906, 'eps': 4.925484375439877e-08}. Best is trial 12 with value: 0.9929279088973999.\n",
      "Some weights of DistilBertForSequenceClassification were not initialized from the model checkpoint at distilbert-base-uncased and are newly initialized: ['pre_classifier.bias', 'pre_classifier.weight', 'classifier.bias', 'classifier.weight']\n",
      "You should probably TRAIN this model on a down-stream task to be able to use it for predictions and inference.\n",
      "100%|██████████| 89/89 [01:09<00:00,  1.27it/s]\n",
      "100%|██████████| 12/12 [00:06<00:00,  1.81it/s]"
     ]
    },
    {
     "name": "stdout",
     "output_type": "stream",
     "text": [
      "\n",
      "accuracy: 0.9759547710418701\n"
     ]
    },
    {
     "name": "stderr",
     "output_type": "stream",
     "text": [
      "\n",
      "[I 2023-11-17 00:30:49,614] Trial 37 finished with value: 0.9759547710418701 and parameters: {'lr': 0.00015585257506082136, 'weight_decay': 0.013808714692214995, 'eps': 9.899793983087331e-08}. Best is trial 12 with value: 0.9929279088973999.\n",
      "Some weights of DistilBertForSequenceClassification were not initialized from the model checkpoint at distilbert-base-uncased and are newly initialized: ['pre_classifier.bias', 'pre_classifier.weight', 'classifier.bias', 'classifier.weight']\n",
      "You should probably TRAIN this model on a down-stream task to be able to use it for predictions and inference.\n",
      "100%|██████████| 89/89 [01:10<00:00,  1.27it/s]\n",
      "100%|██████████| 12/12 [00:06<00:00,  1.79it/s]"
     ]
    },
    {
     "name": "stdout",
     "output_type": "stream",
     "text": [
      "\n",
      "accuracy: 0.9886845946311951\n"
     ]
    },
    {
     "name": "stderr",
     "output_type": "stream",
     "text": [
      "\n",
      "[I 2023-11-17 00:32:07,509] Trial 38 finished with value: 0.9886845946311951 and parameters: {'lr': 5.76854521847507e-05, 'weight_decay': 0.010764389740540463, 'eps': 5.766705913227932e-08}. Best is trial 12 with value: 0.9929279088973999.\n",
      "Some weights of DistilBertForSequenceClassification were not initialized from the model checkpoint at distilbert-base-uncased and are newly initialized: ['pre_classifier.bias', 'pre_classifier.weight', 'classifier.bias', 'classifier.weight']\n",
      "You should probably TRAIN this model on a down-stream task to be able to use it for predictions and inference.\n",
      "100%|██████████| 89/89 [01:09<00:00,  1.28it/s]\n",
      "100%|██████████| 12/12 [00:06<00:00,  1.80it/s]"
     ]
    },
    {
     "name": "stdout",
     "output_type": "stream",
     "text": [
      "\n",
      "accuracy: 0.984441339969635\n"
     ]
    },
    {
     "name": "stderr",
     "output_type": "stream",
     "text": [
      "\n",
      "[I 2023-11-17 00:33:25,022] Trial 39 finished with value: 0.984441339969635 and parameters: {'lr': 1.4941102657750505e-05, 'weight_decay': 0.06830584769922389, 'eps': 2.1316393445640937e-07}. Best is trial 12 with value: 0.9929279088973999.\n",
      "Some weights of DistilBertForSequenceClassification were not initialized from the model checkpoint at distilbert-base-uncased and are newly initialized: ['pre_classifier.bias', 'pre_classifier.weight', 'classifier.bias', 'classifier.weight']\n",
      "You should probably TRAIN this model on a down-stream task to be able to use it for predictions and inference.\n",
      "100%|██████████| 89/89 [01:09<00:00,  1.27it/s]\n",
      "100%|██████████| 12/12 [00:06<00:00,  1.80it/s]"
     ]
    },
    {
     "name": "stdout",
     "output_type": "stream",
     "text": [
      "\n",
      "accuracy: 0.983026921749115\n"
     ]
    },
    {
     "name": "stderr",
     "output_type": "stream",
     "text": [
      "\n",
      "[I 2023-11-17 00:34:42,458] Trial 40 finished with value: 0.983026921749115 and parameters: {'lr': 7.649082397233586e-05, 'weight_decay': 0.021312629262105205, 'eps': 3.3312352213748644e-07}. Best is trial 12 with value: 0.9929279088973999.\n",
      "Some weights of DistilBertForSequenceClassification were not initialized from the model checkpoint at distilbert-base-uncased and are newly initialized: ['pre_classifier.bias', 'pre_classifier.weight', 'classifier.bias', 'classifier.weight']\n",
      "You should probably TRAIN this model on a down-stream task to be able to use it for predictions and inference.\n",
      "100%|██████████| 89/89 [01:09<00:00,  1.28it/s]\n",
      "100%|██████████| 12/12 [00:06<00:00,  1.81it/s]"
     ]
    },
    {
     "name": "stdout",
     "output_type": "stream",
     "text": [
      "\n",
      "accuracy: 0.987270176410675\n"
     ]
    },
    {
     "name": "stderr",
     "output_type": "stream",
     "text": [
      "\n",
      "[I 2023-11-17 00:35:59,549] Trial 41 finished with value: 0.987270176410675 and parameters: {'lr': 2.4017008109452726e-05, 'weight_decay': 0.04356181987843835, 'eps': 5.057965063966636e-07}. Best is trial 12 with value: 0.9929279088973999.\n",
      "Some weights of DistilBertForSequenceClassification were not initialized from the model checkpoint at distilbert-base-uncased and are newly initialized: ['pre_classifier.bias', 'pre_classifier.weight', 'classifier.bias', 'classifier.weight']\n",
      "You should probably TRAIN this model on a down-stream task to be able to use it for predictions and inference.\n",
      "100%|██████████| 89/89 [01:09<00:00,  1.27it/s]\n",
      "100%|██████████| 12/12 [00:06<00:00,  1.79it/s]"
     ]
    },
    {
     "name": "stdout",
     "output_type": "stream",
     "text": [
      "\n",
      "accuracy: 0.985855758190155\n"
     ]
    },
    {
     "name": "stderr",
     "output_type": "stream",
     "text": [
      "\n",
      "[I 2023-11-17 00:37:16,913] Trial 42 finished with value: 0.985855758190155 and parameters: {'lr': 2.0208510839761683e-05, 'weight_decay': 0.042575074663445685, 'eps': 3.65965140979671e-07}. Best is trial 12 with value: 0.9929279088973999.\n",
      "Some weights of DistilBertForSequenceClassification were not initialized from the model checkpoint at distilbert-base-uncased and are newly initialized: ['pre_classifier.bias', 'pre_classifier.weight', 'classifier.bias', 'classifier.weight']\n",
      "You should probably TRAIN this model on a down-stream task to be able to use it for predictions and inference.\n",
      "100%|██████████| 89/89 [01:09<00:00,  1.28it/s]\n",
      "100%|██████████| 12/12 [00:06<00:00,  1.80it/s]"
     ]
    },
    {
     "name": "stdout",
     "output_type": "stream",
     "text": [
      "\n",
      "accuracy: 0.985855758190155\n"
     ]
    },
    {
     "name": "stderr",
     "output_type": "stream",
     "text": [
      "\n",
      "[I 2023-11-17 00:38:34,007] Trial 43 finished with value: 0.985855758190155 and parameters: {'lr': 3.336549993205505e-05, 'weight_decay': 0.031011094538463582, 'eps': 6.505225137367611e-07}. Best is trial 12 with value: 0.9929279088973999.\n",
      "Some weights of DistilBertForSequenceClassification were not initialized from the model checkpoint at distilbert-base-uncased and are newly initialized: ['pre_classifier.bias', 'pre_classifier.weight', 'classifier.bias', 'classifier.weight']\n",
      "You should probably TRAIN this model on a down-stream task to be able to use it for predictions and inference.\n",
      "100%|██████████| 89/89 [01:09<00:00,  1.28it/s]\n",
      "100%|██████████| 12/12 [00:06<00:00,  1.80it/s]"
     ]
    },
    {
     "name": "stdout",
     "output_type": "stream",
     "text": [
      "\n",
      "accuracy: 0.984441339969635\n"
     ]
    },
    {
     "name": "stderr",
     "output_type": "stream",
     "text": [
      "\n",
      "[I 2023-11-17 00:39:51,253] Trial 44 finished with value: 0.984441339969635 and parameters: {'lr': 4.7205346325652156e-05, 'weight_decay': 0.05061314576625468, 'eps': 7.410212630126495e-07}. Best is trial 12 with value: 0.9929279088973999.\n",
      "Some weights of DistilBertForSequenceClassification were not initialized from the model checkpoint at distilbert-base-uncased and are newly initialized: ['pre_classifier.bias', 'pre_classifier.weight', 'classifier.bias', 'classifier.weight']\n",
      "You should probably TRAIN this model on a down-stream task to be able to use it for predictions and inference.\n",
      "100%|██████████| 89/89 [01:10<00:00,  1.27it/s]\n",
      "100%|██████████| 12/12 [00:06<00:00,  1.80it/s]"
     ]
    },
    {
     "name": "stdout",
     "output_type": "stream",
     "text": [
      "\n",
      "accuracy: 0.987270176410675\n"
     ]
    },
    {
     "name": "stderr",
     "output_type": "stream",
     "text": [
      "\n",
      "[I 2023-11-17 00:41:08,723] Trial 45 finished with value: 0.987270176410675 and parameters: {'lr': 1.4453052637933883e-05, 'weight_decay': 0.038045693814819835, 'eps': 2.802500238738306e-07}. Best is trial 12 with value: 0.9929279088973999.\n",
      "Some weights of DistilBertForSequenceClassification were not initialized from the model checkpoint at distilbert-base-uncased and are newly initialized: ['pre_classifier.bias', 'pre_classifier.weight', 'classifier.bias', 'classifier.weight']\n",
      "You should probably TRAIN this model on a down-stream task to be able to use it for predictions and inference.\n",
      "100%|██████████| 89/89 [01:09<00:00,  1.27it/s]\n",
      "100%|██████████| 12/12 [00:06<00:00,  1.79it/s]"
     ]
    },
    {
     "name": "stdout",
     "output_type": "stream",
     "text": [
      "\n",
      "accuracy: 0.983026921749115\n"
     ]
    },
    {
     "name": "stderr",
     "output_type": "stream",
     "text": [
      "\n",
      "[I 2023-11-17 00:42:26,147] Trial 46 finished with value: 0.983026921749115 and parameters: {'lr': 2.358038051713459e-05, 'weight_decay': 0.02220047623866636, 'eps': 9.540857315649503e-07}. Best is trial 12 with value: 0.9929279088973999.\n",
      "Some weights of DistilBertForSequenceClassification were not initialized from the model checkpoint at distilbert-base-uncased and are newly initialized: ['pre_classifier.bias', 'pre_classifier.weight', 'classifier.bias', 'classifier.weight']\n",
      "You should probably TRAIN this model on a down-stream task to be able to use it for predictions and inference.\n",
      "100%|██████████| 89/89 [01:09<00:00,  1.27it/s]\n",
      "100%|██████████| 12/12 [00:06<00:00,  1.79it/s]"
     ]
    },
    {
     "name": "stdout",
     "output_type": "stream",
     "text": [
      "\n",
      "accuracy: 0.9886845946311951\n"
     ]
    },
    {
     "name": "stderr",
     "output_type": "stream",
     "text": [
      "\n",
      "[I 2023-11-17 00:43:43,531] Trial 47 finished with value: 0.9886845946311951 and parameters: {'lr': 3.734186219381254e-05, 'weight_decay': 0.028245703258893393, 'eps': 2.0292006314741516e-07}. Best is trial 12 with value: 0.9929279088973999.\n",
      "Some weights of DistilBertForSequenceClassification were not initialized from the model checkpoint at distilbert-base-uncased and are newly initialized: ['pre_classifier.bias', 'pre_classifier.weight', 'classifier.bias', 'classifier.weight']\n",
      "You should probably TRAIN this model on a down-stream task to be able to use it for predictions and inference.\n",
      "100%|██████████| 89/89 [01:09<00:00,  1.27it/s]\n",
      "100%|██████████| 12/12 [00:06<00:00,  1.79it/s]"
     ]
    },
    {
     "name": "stdout",
     "output_type": "stream",
     "text": [
      "\n",
      "accuracy: 0.985855758190155\n"
     ]
    },
    {
     "name": "stderr",
     "output_type": "stream",
     "text": [
      "\n",
      "[I 2023-11-17 00:45:00,947] Trial 48 finished with value: 0.985855758190155 and parameters: {'lr': 1.2207711364077106e-05, 'weight_decay': 0.06380537269987058, 'eps': 1.2085215001934556e-07}. Best is trial 12 with value: 0.9929279088973999.\n",
      "Some weights of DistilBertForSequenceClassification were not initialized from the model checkpoint at distilbert-base-uncased and are newly initialized: ['pre_classifier.bias', 'pre_classifier.weight', 'classifier.bias', 'classifier.weight']\n",
      "You should probably TRAIN this model on a down-stream task to be able to use it for predictions and inference.\n",
      "100%|██████████| 89/89 [01:09<00:00,  1.27it/s]\n",
      "100%|██████████| 12/12 [00:06<00:00,  1.80it/s]"
     ]
    },
    {
     "name": "stdout",
     "output_type": "stream",
     "text": [
      "\n",
      "accuracy: 0.9886845946311951\n"
     ]
    },
    {
     "name": "stderr",
     "output_type": "stream",
     "text": [
      "\n",
      "[I 2023-11-17 00:46:18,351] Trial 49 finished with value: 0.9886845946311951 and parameters: {'lr': 1.8290637254955686e-05, 'weight_decay': 0.015600596895023317, 'eps': 4.653464610768951e-07}. Best is trial 12 with value: 0.9929279088973999.\n"
     ]
    },
    {
     "name": "stdout",
     "output_type": "stream",
     "text": [
      "Best Hyperparameters: {'lr': 3.085411381943491e-05, 'weight_decay': 0.022923593042419334, 'eps': 8.254221467789509e-07}\n",
      "Best Accuracy: 0.9929279088973999\n"
     ]
    }
   ],
   "source": [
    "import optuna\n",
    "\n",
    "study = optuna.create_study(direction='maximize')\n",
    "study.optimize(objective, n_trials=50)\n",
    "\n",
    "best_params = study.best_params\n",
    "best_accuracy = study.best_value\n",
    "\n",
    "print(\"Best Hyperparameters:\", best_params)\n",
    "print(\"Best Accuracy:\", best_accuracy)"
   ]
  },
  {
   "cell_type": "markdown",
   "metadata": {
    "id": "_GAxC82ddm77"
   },
   "source": [
    "#### 3.2.5 推断"
   ]
  },
  {
   "cell_type": "code",
   "execution_count": 35,
   "metadata": {
    "executionInfo": {
     "elapsed": 2,
     "status": "ok",
     "timestamp": 1700176020903,
     "user": {
      "displayName": "Jorge Limery",
      "userId": "02703735869977102912"
     },
     "user_tz": -480
    },
    "id": "m7zhYy9uX5wh"
   },
   "outputs": [],
   "source": [
    "# 推断函数（没有用批推理）\n",
    "def inference(content):\n",
    "    with torch.inference_mode():\n",
    "        inputs = tokenizer(content, return_tensors='pt')\n",
    "        inputs = {k: v.cuda() for k, v in inputs.items()}\n",
    "        logits = model(**inputs).logits\n",
    "        pred = torch.argmax(logits, dim=-1)\n",
    "        return 'spam' if pred.item() == 1 else 'ham'"
   ]
  },
  {
   "cell_type": "code",
   "execution_count": 36,
   "metadata": {
    "colab": {
     "base_uri": "https://localhost:8080/"
    },
    "executionInfo": {
     "elapsed": 15369,
     "status": "ok",
     "timestamp": 1700176040668,
     "user": {
      "displayName": "Jorge Limery",
      "userId": "02703735869977102912"
     },
     "user_tz": -480
    },
    "id": "rl6WvoxZYAXt",
    "outputId": "801ce85d-2a01-455a-ff76-b6946484e8e9"
   },
   "outputs": [
    {
     "name": "stderr",
     "output_type": "stream",
     "text": [
      "100%|██████████| 2035/2035 [00:15<00:00, 135.58it/s]\n"
     ]
    }
   ],
   "source": [
    "# 输出结果\n",
    "pred_list = [inference(c) for c in tqdm(df_te['content'])]\n",
    "\n",
    "with open('submission.txt', 'w', encoding='utf-8') as f:\n",
    "    f.write('\\n'.join(pred_list))"
   ]
  }
 ],
 "metadata": {
  "accelerator": "GPU",
  "colab": {
   "authorship_tag": "ABX9TyNJ1ox+eEx3Wt8R2NlXM/fv",
   "collapsed_sections": [
    "gvIhaWk7THNh"
   ],
   "gpuType": "T4",
   "provenance": []
  },
  "kernelspec": {
   "name": "python3",
   "language": "python",
   "display_name": "Python 3 (ipykernel)"
  },
  "language_info": {
   "codemirror_mode": {
    "name": "ipython",
    "version": 3
   },
   "file_extension": ".py",
   "mimetype": "text/x-python",
   "name": "python",
   "nbconvert_exporter": "python",
   "pygments_lexer": "ipython3",
   "version": "3.10.13"
  }
 },
 "nbformat": 4,
 "nbformat_minor": 0
}
